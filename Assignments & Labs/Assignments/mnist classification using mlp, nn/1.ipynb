{
 "cells": [
  {
   "cell_type": "markdown",
   "metadata": {
    "id": "xivxeJyrnOAr"
   },
   "source": [
    "# **ASSIGNMENT- 01**"
   ]
  },
  {
   "cell_type": "markdown",
   "metadata": {
    "id": "wLH1lY_FNNsa"
   },
   "source": [
    "## EXCERCISE 1"
   ]
  },
  {
   "cell_type": "code",
   "execution_count": 1,
   "metadata": {
    "id": "Zh602aVrNNsc"
   },
   "outputs": [],
   "source": [
    "import torch\n",
    "import torchvision  #To be able to access standard datasets more easily\n",
    "from torchvision.transforms import ToTensor\n",
    "import matplotlib.pyplot as plt\n",
    "import numpy as np  # To plot and display stuff\n",
    "import torch.optim as optim # Where the optimization modules are\n",
    "import urllib.request\n",
    "from random import randint\n",
    "from mlxtend.data import loadlocal_mnist\n",
    "import platform\n",
    "from sklearn.metrics import accuracy_score"
   ]
  },
  {
   "cell_type": "code",
   "execution_count": 2,
   "metadata": {
    "colab": {
     "base_uri": "https://localhost:8080/",
     "height": 423,
     "referenced_widgets": [
      "8554a72282144281ae33378e12238cdd",
      "d0bf8efb2f9241b5a21c0e035d813909",
      "623f329e6c104829b8c7c8ebe695bcd7",
      "f9668d9ed964448e96168bb2be585497",
      "454aafbb5c834a59b100dfd5d7b8ccbd",
      "959f904eb38f44538252ddc0ac21f3be",
      "afed7326b7684f1e8f5896ff27d1fa8b",
      "8d6d0dbaea49482ba7aa39b9cd4661e1",
      "2c19a45cdc804bf7994ec77711851a74",
      "822c2e1b41ca47b4ba22f329b0b39936",
      "02f0d899c2e84bc8ad23c1e735956126",
      "da43cd1692ae47338bc0d1a7eabfccf5",
      "35feebbcc29f483483de37291fd664ef",
      "d5f924c7f2ce43129af43043127f7c7c",
      "e3b356c652f34702be51938e4b6bafd2",
      "d6113260e9f4460bbce2d93058b9f4b0",
      "94ea7c4216c04846bbbb895246109823",
      "6c69a8b3059346e59f6b6253d79df299",
      "8d3a640149524f998ff86ba9557148c6",
      "6c7b07194dba49e3aa15b48150f23d04",
      "244f6241b44742f182ad13b7c88c9616",
      "641fa20c64fa4cbbb44b8397b0ad439d",
      "7d1113cd205448a5b5b1f99fc4f01b87",
      "3f05ace1e720444d858852aa44023637",
      "7ef009a337304561ada4b2851cad0258",
      "8f62241bac7f41a2a763448cf342407e",
      "f7623a5153354612aae75348ab85fadb",
      "c09147cc8dfd4a728f36bd65de252187",
      "e13c2b8c37504f35a532fd5bb5923022",
      "4ea7880a49d9418fb38afe9f4b10f905",
      "71b55c1b1dc1454db2526e54b7793f31",
      "f9624faae6ca4458ac53c02849ee1418",
      "021f462c80b14a63b1d0a2c7b6879ce3",
      "c1d20c0d941d458f9620473ba7bc7c8e",
      "e794a7dee6ff4162b8386bfefa4500d0",
      "19008a0481ab4f4cb33d67bcfe00cae4",
      "1d3c2abcdeb64bfe89c4222fedcaeb83",
      "705d3363334d44e389583dba7b7f2f8f",
      "9a5727a56e2441329855d950c2eae6a7",
      "ac035f0b823e48719d6fa3a48b1a602d",
      "c8fb663583d145a39e8c513c2d8c04e4",
      "bc072f09a16045a1a059343b24b9739c",
      "04bfe1b58b084421a2bb25e2e0964778",
      "3a4bd6f2721343eda8ab3bd3144fd191"
     ]
    },
    "id": "b6lttL8VNNsd",
    "outputId": "898eb719-2493-411b-8b58-fee460156147"
   },
   "outputs": [
    {
     "name": "stdout",
     "output_type": "stream",
     "text": [
      "Downloading http://yann.lecun.com/exdb/mnist/train-images-idx3-ubyte.gz\n",
      "Downloading http://yann.lecun.com/exdb/mnist/train-images-idx3-ubyte.gz to ./data/MNIST/raw/train-images-idx3-ubyte.gz\n"
     ]
    },
    {
     "data": {
      "application/vnd.jupyter.widget-view+json": {
       "model_id": "8554a72282144281ae33378e12238cdd",
       "version_major": 2,
       "version_minor": 0
      },
      "text/plain": [
       "  0%|          | 0/9912422 [00:00<?, ?it/s]"
      ]
     },
     "metadata": {},
     "output_type": "display_data"
    },
    {
     "name": "stdout",
     "output_type": "stream",
     "text": [
      "Extracting ./data/MNIST/raw/train-images-idx3-ubyte.gz to ./data/MNIST/raw\n",
      "\n",
      "Downloading http://yann.lecun.com/exdb/mnist/train-labels-idx1-ubyte.gz\n",
      "Downloading http://yann.lecun.com/exdb/mnist/train-labels-idx1-ubyte.gz to ./data/MNIST/raw/train-labels-idx1-ubyte.gz\n"
     ]
    },
    {
     "data": {
      "application/vnd.jupyter.widget-view+json": {
       "model_id": "da43cd1692ae47338bc0d1a7eabfccf5",
       "version_major": 2,
       "version_minor": 0
      },
      "text/plain": [
       "  0%|          | 0/28881 [00:00<?, ?it/s]"
      ]
     },
     "metadata": {},
     "output_type": "display_data"
    },
    {
     "name": "stdout",
     "output_type": "stream",
     "text": [
      "Extracting ./data/MNIST/raw/train-labels-idx1-ubyte.gz to ./data/MNIST/raw\n",
      "\n",
      "Downloading http://yann.lecun.com/exdb/mnist/t10k-images-idx3-ubyte.gz\n",
      "Downloading http://yann.lecun.com/exdb/mnist/t10k-images-idx3-ubyte.gz to ./data/MNIST/raw/t10k-images-idx3-ubyte.gz\n"
     ]
    },
    {
     "data": {
      "application/vnd.jupyter.widget-view+json": {
       "model_id": "7d1113cd205448a5b5b1f99fc4f01b87",
       "version_major": 2,
       "version_minor": 0
      },
      "text/plain": [
       "  0%|          | 0/1648877 [00:00<?, ?it/s]"
      ]
     },
     "metadata": {},
     "output_type": "display_data"
    },
    {
     "name": "stdout",
     "output_type": "stream",
     "text": [
      "Extracting ./data/MNIST/raw/t10k-images-idx3-ubyte.gz to ./data/MNIST/raw\n",
      "\n",
      "Downloading http://yann.lecun.com/exdb/mnist/t10k-labels-idx1-ubyte.gz\n",
      "Downloading http://yann.lecun.com/exdb/mnist/t10k-labels-idx1-ubyte.gz to ./data/MNIST/raw/t10k-labels-idx1-ubyte.gz\n"
     ]
    },
    {
     "data": {
      "application/vnd.jupyter.widget-view+json": {
       "model_id": "c1d20c0d941d458f9620473ba7bc7c8e",
       "version_major": 2,
       "version_minor": 0
      },
      "text/plain": [
       "  0%|          | 0/4542 [00:00<?, ?it/s]"
      ]
     },
     "metadata": {},
     "output_type": "display_data"
    },
    {
     "name": "stdout",
     "output_type": "stream",
     "text": [
      "Extracting ./data/MNIST/raw/t10k-labels-idx1-ubyte.gz to ./data/MNIST/raw\n",
      "\n"
     ]
    }
   ],
   "source": [
    "# Using torchvision we can conveniently load some datasets\n",
    "trainset = torchvision.datasets.MNIST(root='./data', train=True, download=True, transform=ToTensor())\n",
    "testset = torchvision.datasets.MNIST(root='./data', train=False, download=True, transform=ToTensor())"
   ]
  },
  {
   "cell_type": "code",
   "execution_count": 3,
   "metadata": {
    "id": "1G2idYuHNNse"
   },
   "outputs": [],
   "source": [
    "# Extract tensor of data and labels for both the training and the test set\n",
    "x, y = trainset.data.float(), trainset.targets\n",
    "x_test, y_test = testset.data.float(), testset.targets"
   ]
  },
  {
   "cell_type": "markdown",
   "metadata": {
    "id": "eJTbMvqyO859"
   },
   "source": [
    "### Q1\n",
    "* Try to load the same data directly from the \"MINST database\" website http://yann.lecun.com/exdb/mnist/\n",
    "\n",
    "* Be careful that the images can have a different normalization and encoding"
   ]
  },
  {
   "cell_type": "code",
   "execution_count": 4,
   "metadata": {
    "colab": {
     "base_uri": "https://localhost:8080/",
     "height": 0
    },
    "id": "_DSN0NcxS4O_",
    "outputId": "bdee0d53-be54-48e5-ce85-ec54c17b9a8f"
   },
   "outputs": [
    {
     "name": "stdout",
     "output_type": "stream",
     "text": [
      "Looking in indexes: https://pypi.org/simple, https://us-python.pkg.dev/colab-wheels/public/simple/\n",
      "Collecting wget\n",
      "  Downloading wget-3.2.zip (10 kB)\n",
      "Building wheels for collected packages: wget\n",
      "  Building wheel for wget (setup.py) ... \u001B[?25l\u001B[?25hdone\n",
      "  Created wheel for wget: filename=wget-3.2-py3-none-any.whl size=9675 sha256=381b9eb91025630cfd01c3afd1b6b73e81480b08f2299d98a4ecc55ab9cdca9d\n",
      "  Stored in directory: /root/.cache/pip/wheels/a1/b6/7c/0e63e34eb06634181c63adacca38b79ff8f35c37e3c13e3c02\n",
      "Successfully built wget\n",
      "Installing collected packages: wget\n",
      "Successfully installed wget-3.2\n"
     ]
    }
   ],
   "source": [
    "!pip install wget"
   ]
  },
  {
   "cell_type": "code",
   "execution_count": 5,
   "metadata": {
    "id": "pXASagcjNNse"
   },
   "outputs": [],
   "source": [
    "import gzip\n",
    "import shutil\n",
    "import wget\n",
    "\n",
    "\n",
    "trainset_images = wget.download(\"http://yann.lecun.com/exdb/mnist/train-images-idx3-ubyte.gz\", \"train-images-idx3-ubyte.gz\")\n",
    "\n",
    "trainset_labels = wget.download(\"http://yann.lecun.com/exdb/mnist/train-labels-idx1-ubyte.gz\", \"train-labels-idx1-ubyte.gz\")\n",
    "\n",
    "testset_images = wget.download(\"http://yann.lecun.com/exdb/mnist/t10k-images-idx3-ubyte.gz\", \"t10k-images-idx3-ubyte.gz\")\n",
    "\n",
    "testset_labels = wget.download(\"http://yann.lecun.com/exdb/mnist/t10k-labels-idx1-ubyte.gz\", \"t10k-labels-idx1-ubyte.gz\")\n",
    "\n",
    "filenames = [\"train-images-idx3-ubyte\", \"train-labels-idx1-ubyte\", \"t10k-images-idx3-ubyte\", \"t10k-labels-idx1-ubyte\"]\n",
    "\n",
    "for f in filenames:\n",
    "    with gzip.open(f+'.gz', 'rb') as f_in:\n",
    "        with open(f, 'wb') as f_out:\n",
    "            shutil.copyfileobj(f_in, f_out)\n",
    "\n",
    "x_train_download, y_train_download = loadlocal_mnist(\n",
    "            images_path='train-images-idx3-ubyte',\n",
    "            labels_path='train-labels-idx1-ubyte')\n",
    "\n",
    "x_test_download, y_test_download = loadlocal_mnist(\n",
    "            images_path='t10k-images-idx3-ubyte',\n",
    "            labels_path='t10k-labels-idx1-ubyte')"
   ]
  },
  {
   "cell_type": "code",
   "execution_count": 6,
   "metadata": {
    "colab": {
     "base_uri": "https://localhost:8080/",
     "height": 0
    },
    "id": "9fzBE9NQTJO-",
    "outputId": "1c720028-c0c9-498f-e963-14127fc51450"
   },
   "outputs": [
    {
     "name": "stdout",
     "output_type": "stream",
     "text": [
      "(60000, 784) (60000,)\n",
      "torch.Size([60000, 28, 28]) torch.Size([60000])\n",
      "(10000, 784) (10000,)\n",
      "torch.Size([10000, 28, 28]) torch.Size([10000])\n"
     ]
    }
   ],
   "source": [
    "print(x_train_download.shape, y_train_download.shape)\n",
    "print(x.shape, y.shape)\n",
    "print(x_test_download.shape, y_test_download.shape)\n",
    "print(x_test.shape, y_test.shape)"
   ]
  },
  {
   "cell_type": "markdown",
   "metadata": {
    "id": "FgcfLIcLTWlf"
   },
   "source": [
    "The difference between the downloaded data and the one loaded from torch vision is that the last two dimensions are flattened in the downloaded data, which is acually the correct shape of the data that we need to feed to the model.\n",
    "\n",
    "Code to flatten the last two dimensions:\n",
    "```[Python]\n",
    "torch.flatten(x, start_dim=1, end_dim=2)\n",
    "```"
   ]
  },
  {
   "cell_type": "code",
   "execution_count": 7,
   "metadata": {
    "id": "fG16UeQmNNsf"
   },
   "outputs": [],
   "source": [
    "# Transform labels to one_hot encoding\n",
    "y_one_hot = torch.nn.functional.one_hot(y.to(torch.int64), num_classes=10).float()\n",
    "y_test_one_hot = torch.nn.functional.one_hot(y_test.to(torch.int64), num_classes=10).float()"
   ]
  },
  {
   "cell_type": "markdown",
   "metadata": {
    "id": "d4C_FanjV9uT"
   },
   "source": [
    "### Q2\n",
    "\n",
    "Using the utilities in plt and numpy display some images and check that the corresponding labels are consistent"
   ]
  },
  {
   "cell_type": "code",
   "execution_count": 8,
   "metadata": {
    "colab": {
     "base_uri": "https://localhost:8080/",
     "height": 208
    },
    "id": "C_75HSk-NNsf",
    "outputId": "cfbf48b2-473e-479e-ddfb-de4d8a38ce3f"
   },
   "outputs": [
    {
     "data": {
      "image/png": "[encoded data removed]",
      "text/plain": [
       "<Figure size 432x288 with 9 Axes>"
      ]
     },
     "metadata": {
      "needs_background": "light"
     },
     "output_type": "display_data"
    }
   ],
   "source": [
    "max_image_index = trainset.data.shape[0] - 1\n",
    "n_images_to_show = 9\n",
    "for i in range(0, n_images_to_show):\n",
    "    image_idx = randint(0, max_image_index) # pick a random image from our dataset\n",
    "    image, label = trainset[image_idx]\n",
    "    plt.subplot(int(n_images_to_show/2),int(n_images_to_show/2), i+1)\n",
    "    plt.imshow(image.numpy()[0], cmap='gray')\n",
    "    plt.axis(\"off\")\n",
    "    plt.title(\"label: \" + str(label))\n",
    "plt.show()"
   ]
  },
  {
   "cell_type": "markdown",
   "metadata": {
    "id": "beifc7PhWE2j"
   },
   "source": [
    "### Q3\n",
    "- **Complete the code below so to have a MLP with one hidden layer with 300 neurons**\n",
    "\n",
    "- **Remember that we want one-hot outputs**"
   ]
  },
  {
   "cell_type": "code",
   "execution_count": 9,
   "metadata": {
    "id": "x1h7rA_gNNsf"
   },
   "outputs": [],
   "source": [
    "# Now let us define the neural network we are using\n",
    "image_size = trainset.data.shape[1] * trainset.data.shape[2]\n",
    "net = torch.nn.Sequential(\n",
    "    torch.nn.Linear(image_size, 300),\n",
    "    torch.nn.Sigmoid(),\n",
    "    torch.nn.Linear(300, 10),\n",
    ")"
   ]
  },
  {
   "cell_type": "code",
   "execution_count": 11,
   "metadata": {
    "id": "M_64z0kpPI65"
   },
   "outputs": [],
   "source": [
    "# GPU\n",
    "dev = torch.device(\"cuda\" if torch.cuda.is_available() else \"cpu\")\n",
    "\n",
    "# For Accuracy\n",
    "def accuracy(out, yb):\n",
    "    preds = torch.argmax(out, dim=1)\n",
    "    return (preds == yb).float().mean() * 100"
   ]
  },
  {
   "cell_type": "markdown",
   "metadata": {
    "id": "vfS6G0SJWcKx"
   },
   "source": [
    "### Q4\n",
    "\n",
    "- **Complete the code below to perform a GD based optimization**"
   ]
  },
  {
   "cell_type": "code",
   "execution_count": 12,
   "metadata": {
    "colab": {
     "base_uri": "https://localhost:8080/",
     "height": 0
    },
    "id": "N6RABPF0NNsg",
    "outputId": "072c5d4a-8018-4b20-c891-bc23678d27a0"
   },
   "outputs": [
    {
     "name": "stdout",
     "output_type": "stream",
     "text": [
      "k= 0    Risk =  2.426805019378662\n",
      "k= 1    Risk =  2.059744119644165\n",
      "k= 2    Risk =  1.8141142129898071\n",
      "k= 3    Risk =  1.6330887079238892\n",
      "k= 4    Risk =  1.4865326881408691\n",
      "k= 5    Risk =  1.3666075468063354\n",
      "k= 6    Risk =  1.2655328512191772\n",
      "k= 7    Risk =  1.179999589920044\n",
      "k= 8    Risk =  1.1057738065719604\n",
      "k= 9    Risk =  1.040987253189087\n",
      "k= 10    Risk =  0.984626054763794\n",
      "k= 11    Risk =  0.9357080459594727\n",
      "k= 12    Risk =  0.8923757076263428\n",
      "k= 13    Risk =  0.8543803095817566\n",
      "k= 14    Risk =  0.8201102018356323\n",
      "k= 15    Risk =  0.7890397310256958\n",
      "k= 16    Risk =  0.7604593634605408\n",
      "k= 17    Risk =  0.7347379326820374\n",
      "k= 18    Risk =  0.7110958099365234\n",
      "k= 19    Risk =  0.6894578337669373\n",
      "k= 20    Risk =  0.6695007681846619\n",
      "k= 21    Risk =  0.650956392288208\n",
      "k= 22    Risk =  0.6339602470397949\n",
      "k= 23    Risk =  0.6178784966468811\n",
      "k= 24    Risk =  0.6031579375267029\n",
      "k= 25    Risk =  0.589174211025238\n",
      "k= 26    Risk =  0.5763946175575256\n",
      "k= 27    Risk =  0.5640968680381775\n",
      "k= 28    Risk =  0.5526596307754517\n",
      "k= 29    Risk =  0.5418834686279297\n",
      "k= 30    Risk =  0.5318153500556946\n",
      "k= 31    Risk =  0.5222426652908325\n",
      "k= 32    Risk =  0.5131532549858093\n",
      "k= 33    Risk =  0.5047115087509155\n",
      "k= 34    Risk =  0.49653372168540955\n",
      "k= 35    Risk =  0.488938570022583\n",
      "k= 36    Risk =  0.4814798831939697\n",
      "k= 37    Risk =  0.47461816668510437\n",
      "k= 38    Risk =  0.4677993953227997\n",
      "k= 39    Risk =  0.4615384638309479\n",
      "k= 40    Risk =  0.4552369713783264\n",
      "k= 41    Risk =  0.4495449364185333\n",
      "k= 42    Risk =  0.4438147246837616\n",
      "k= 43    Risk =  0.4386565089225769\n",
      "k= 44    Risk =  0.4333876967430115\n",
      "k= 45    Risk =  0.42859765887260437\n",
      "k= 46    Risk =  0.4237360954284668\n",
      "k= 47    Risk =  0.41927942633628845\n",
      "k= 48    Risk =  0.41471827030181885\n",
      "k= 49    Risk =  0.4104352593421936\n",
      "k= 50    Risk =  0.40599918365478516\n",
      "k= 51    Risk =  0.4018440544605255\n",
      "k= 52    Risk =  0.39748871326446533\n",
      "k= 53    Risk =  0.39345207810401917\n",
      "k= 54    Risk =  0.389379620552063\n",
      "k= 55    Risk =  0.3856368362903595\n",
      "k= 56    Risk =  0.3820176124572754\n",
      "k= 57    Risk =  0.37871691584587097\n",
      "k= 58    Risk =  0.3756451904773712\n",
      "k= 59    Risk =  0.3729083836078644\n",
      "k= 60    Risk =  0.3703365921974182\n",
      "k= 61    Risk =  0.36827659606933594\n",
      "k= 62    Risk =  0.36628881096839905\n",
      "k= 63    Risk =  0.3648653030395508\n",
      "k= 64    Risk =  0.3632921278476715\n",
      "k= 65    Risk =  0.36169764399528503\n",
      "k= 66    Risk =  0.35941368341445923\n",
      "k= 67    Risk =  0.3568192720413208\n",
      "k= 68    Risk =  0.353937029838562\n",
      "k= 69    Risk =  0.3504285514354706\n",
      "k= 70    Risk =  0.34664905071258545\n",
      "k= 71    Risk =  0.3429558575153351\n",
      "k= 72    Risk =  0.3392547070980072\n",
      "k= 73    Risk =  0.33610233664512634\n",
      "k= 74    Risk =  0.333213746547699\n",
      "k= 75    Risk =  0.330920934677124\n",
      "k= 76    Risk =  0.32883813977241516\n",
      "k= 77    Risk =  0.3272038996219635\n",
      "k= 78    Risk =  0.32573580741882324\n",
      "k= 79    Risk =  0.32494673132896423\n",
      "k= 80    Risk =  0.32425329089164734\n",
      "k= 81    Risk =  0.3242957890033722\n",
      "k= 82    Risk =  0.32376882433891296\n",
      "k= 83    Risk =  0.3232015073299408\n",
      "k= 84    Risk =  0.3217678964138031\n",
      "k= 85    Risk =  0.3199893534183502\n",
      "k= 86    Risk =  0.31765809655189514\n",
      "k= 87    Risk =  0.3152184784412384\n",
      "k= 88    Risk =  0.3124867081642151\n",
      "k= 89    Risk =  0.3095186948776245\n",
      "k= 90    Risk =  0.3068850338459015\n",
      "k= 91    Risk =  0.30432865023612976\n",
      "k= 92    Risk =  0.30246058106422424\n",
      "k= 93    Risk =  0.3004642128944397\n",
      "k= 94    Risk =  0.2989695370197296\n",
      "k= 95    Risk =  0.2973100244998932\n",
      "k= 96    Risk =  0.2958942651748657\n",
      "k= 97    Risk =  0.29477912187576294\n",
      "k= 98    Risk =  0.2938283085823059\n",
      "k= 99    Risk =  0.29318544268608093\n"
     ]
    }
   ],
   "source": [
    "# CPU TO GPU\n",
    "\n",
    "x = x.to(dev)\n",
    "y = y.to(dev)\n",
    "x_test = x_test.to(dev)\n",
    "y_test = y_test.to(dev)\n",
    "net = net.to(dev)\n",
    "\n",
    "for k in range(100):\n",
    "    optimizer.zero_grad()\n",
    "\n",
    "    inputs = torch.flatten(x, start_dim=1, end_dim=2).to(dev)\n",
    "    outputs = net(inputs)\n",
    "    labels = y_one_hot.to(dev)\n",
    "\n",
    "    #Define the empirical risk\n",
    "    Risk = loss(outputs, labels)\n",
    "\n",
    "    #Make the backward step (1 line instruction)\n",
    "    Risk.backward()\n",
    "\n",
    "    #Upadte the parameters (1 line instruction)\n",
    "    optimizer.step()\n",
    "\n",
    "    with torch.no_grad():\n",
    "        print(\"k=\", k, \"   Risk = \", Risk.item())"
   ]
  },
  {
   "cell_type": "markdown",
   "metadata": {
    "id": "zn2FShwOXBDT"
   },
   "source": [
    "### Q5\n",
    "\n",
    "**Compute the final accuracy on test set**"
   ]
  },
  {
   "cell_type": "code",
   "execution_count": 13,
   "metadata": {
    "colab": {
     "base_uri": "https://localhost:8080/",
     "height": 0
    },
    "id": "x4xFrXkBNNsg",
    "outputId": "411879a0-f972-4d36-e243-90c9cdb3d8c0"
   },
   "outputs": [
    {
     "name": "stdout",
     "output_type": "stream",
     "text": [
      "Final Accuracy on test: 91.97000122070312 %\n"
     ]
    }
   ],
   "source": [
    "predict_test = net(torch.flatten(x_test, start_dim=1, end_dim=2))\n",
    "acc = accuracy(predict_test, y_test).cpu()\n",
    "print(f\"Final Accuracy on test: {acc} %\")"
   ]
  },
  {
   "cell_type": "markdown",
   "metadata": {
    "id": "e40m7IptXont"
   },
   "source": [
    "# Exercise 2"
   ]
  },
  {
   "cell_type": "markdown",
   "metadata": {
    "id": "oIG92ybNXv7f"
   },
   "source": [
    "### Q1.\n",
    "**On line 49 of the code it is commented that we want to perform a GD based optimization. However on line 45 we invoked optim.SGD as the optimizer. Explain why in this case we are still performing a gradient descent on the whole dataset even if it seems that we are invoking a stochastic method.**"
   ]
  },
  {
   "cell_type": "markdown",
   "metadata": {
    "id": "o_vhiYVaYd0R"
   },
   "source": [
    "Yes, we are indeed performing Gradient Descent (GD) because in Q4, we invoke the SGD optimizer but we pass the entire training dataset to our optimizer (no batches are involved here)."
   ]
  },
  {
   "cell_type": "markdown",
   "metadata": {
    "id": "Dv3AUSsNYh34"
   },
   "source": [
    "### Q2. \n",
    "**Discuss over-fitting issues by monitoring the train and test error curves.**"
   ]
  },
  {
   "cell_type": "markdown",
   "metadata": {
    "id": "dA7PqmXAbkCN"
   },
   "source": [
    "From the Validation curve shown below it can be inferred that both training and testing errors are very high for low value of Epochs and rapidly increase with further Epochs. That is model went from under-fitting to over-fitting. \n",
    "\n",
    "Both test and train errors keeps on decreasing even for very high values of Epochs and test error converges quicker than train error.  This shows that our model exhibits little-overfitting but not very severe over-fitting.\n",
    "![VC WRT EPOCH.png](data:image/png;base64,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)"
   ]
  },
  {
   "cell_type": "markdown",
   "metadata": {
    "id": "XXAZ3Vu5Y_4p"
   },
   "source": [
    "###Q3. \n",
    "\n",
    "**Discuss what role does the choice of the network (i.e. number of layers and number of neurons per layer) have on the bias-variance trade-off. First describe your expectations based on theoretical analysis (arguing on the different capacity of the models) then test this expectations with a small experimental campaign. Is the expected behavior confirmed by experimental results? Briefly discuss your findings.**"
   ]
  },
  {
   "cell_type": "markdown",
   "metadata": {
    "id": "sVot7FzPmbJj"
   },
   "source": [
    "#### **Theoretical Analysis**\n",
    "\n",
    "\n",
    "The bias and variance tradeoff: \n",
    "\n",
    "* under-fitting => high training and testing risk\n",
    "* over-fitting => test risk is very high while the training risk is very low.\n",
    "\n",
    "**Aim:**  Find the sweet spot between under-fitting and over-fitting by varying the capacity (complexity) of the model.\n",
    "\n",
    "As already seen in the lecture, in theory:\n",
    "\n",
    "* **Classical regime:** Very high bias and small variance (under-fitting) for a low capacity model and a small bias and large variance (over-fitting) when the model capacity is very high. But it is possible to find the sweet spot by finding an optimal capacity.\n",
    "\n",
    "* **Modern interpolating regime:** the model behaves similarly as in the classical regime, but after a certain high capacity (deep networks) it seems that it is possible to have a model with perfect fitting on the training data and test data at the same time, thereby achieving better model generalization.\n",
    "\n",
    "**Refer:**\n",
    "\n",
    "![Image](https://miro.medium.com/max/1400/1*xPeh_NHGHbTmURrGWBNHKw.png)\n",
    "\n",
    "*source https://arxiv.org/pdf/1812.11118.pdf*"
   ]
  },
  {
   "cell_type": "markdown",
   "metadata": {
    "id": "4bjiaHpYmjTo"
   },
   "source": [
    "## **Experimental Analysis:**\n",
    "The following Bias-Variance Trade-off are obtained after the analysis where model capacity is increased by:\n",
    "*  the no. of neurons (for a single hidden layer): This is found to be part of modern interpolating regime since both risks continue to decrease.\n",
    "* Fixing the no. of neurons per layer to 300 and increasing the no. of layers: This is found to be part of classical regime, since there is over-fitting.\n",
    "* Based upon the the two previous graphs, the final analysis is done and it found to be that a Neural Network with Architecture of 600 neurons per hidden layer, with 2 hidden layers performs better among the other compared models (Even the 300 neurons perform good but higher neurons are usually preferred from the first graph). \n",
    "(Note: This combination of Layers and Neurons is not unique, but this is what I chose). This Architecture is also belongs to Modern interpolating regime.\n",
    "\n",
    "![NVS RISK.png](data:image/png;base64,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)\n",
    "![NHLRSK.png](data:image/png;base64,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)![ARCH600N2L.png](data:image/png;base64,iVBORw0KGgoAAAANSUhEUgAAAnUAAAEiCAYAAACflCSGAAAABHNCSVQICAgIfAhkiAAAAAlwSFlzAAALEgAACxIB0t1+/AAAADh0RVh0U29mdHdhcmUAbWF0cGxvdGxpYiB2ZXJzaW9uMy4yLjIsIGh0dHA6Ly9tYXRwbG90bGliLm9yZy+WH4yJAAAgAElEQVR4nOydd3gVVfrHP+fem+SmB5KQEEhIEAIJkQ4KiIqygg0VEURWrCuiLiyurq6ufX82rNgbdoW1V1BEEQUF6TVAgNBLek9uO78/Zm64CQkESPf9PE+ezD1z5px35pyZ+c57mtJaIwiCIAiCILRsLE1tgCAIgiAIgnDiiKgTBEEQBEFoBYioEwRBEARBaAWIqBMEQRAEQWgFiKgTBEEQBEFoBYioEwRBEARBaAW0SFGnlIpUSq0y//Yrpfb4/PY/yrH9lVIz6pDH4vqzGJRSz5h2tphrrpT6h1Jqorl9qlJqiXmNNyql7j/KsVcrpZ43t2/0plMtTqJSat2RwutaXseCUuoJpdRZ9ZmmT9pvKaXGVAt7wbxuG5RSZT51dUxt6VQ7PkIpdZPP7zil1Mf1bPfnSqnf6zPNxqRaXX1LKbVdKbVaKbVZKfWOUqrjcaZ7WHke4/H3K6VuO4bw+n7uXKCUerCWfQFKqR/MujiunvIrNv9XqaNKqQ+VUmuUUtOUUt3NPFcqpU6qj3xrseVipVTqUeKsUkrNOo60K59vNez71rxnq9y3x5HHUe0XhOq0GIHhi9Y6R2vdW2vdG3gZeNr7W2vtUErZjnDsMq31lDrkMbi+7DWF3CXALuCM+kq3hnxqPe/jTOta4AMz6G3gBvOapwH/q2taWuuXtdbvHI8ddS2vY+Q54M56TrNWtNY3m9ftPGCrT12tqzCLACpfDlrrvVrr4xYa1VFKRQD9gHClVOf6SreGfOqtftaQrm9dBbhda90L6AasBH482gdfc6A+nzsm3wAXKqWCatjXx8yzt9Z6dl0SU0pZ6xLPt44qpWKBAVrrnlrrp4GLgY+11n201lvrM99qXAzUKoqUUimAFRiqlAquJc4x11mt9Xla63yq3bfHwRHtr4mGuseElkOLFHU1YX5Rv6yUWgI8rpQaqJT6zfwaXKyU6mbGO1Mp9bW5fb9SaqZSaoFSaptSaopPesU+8RcopT5WSqUrpd5XSilz33lm2HKl1AxvujVwJrAeeAkY75NHjFLqM9OjsFopNdgMn2h+1a5WSr3rc35jfI71te8XpdSXwAYz7HPTpvVKqRt8jhmplFphpjtfKWVRSm1RSkWb+y1KqQzz91nACq21yzy8HbAPQGvt1lp782pr5rdGKfW7UqpnDWVT6ZVQSvXzni9wcx3Kta7l9Vel1FLzy/sVpZTV/HtLKbVOKbVWKTXNtH8HEGm+bKrn9zel1B+mjZ94X4ZmOjPMurTNWxbK4Hml1Cal1A/mdToqSqlg81yWmnX0IjO8h895rFFKdQUeBU4yw6arqp7Mq5VSnyql5ppl+bhPHtcpw1O1VCn1mqrFswCMBr4CZgGX+xzfRRmenNVmvTnJDL/DvJ6rlVKPmmELlFL9ze0opVSmj31fKqV+BOYrpULMurfCTOMin/yq1HulVKgyPG5+5v4w398+VK+rlWiDp4H9wLlmOi8ppZaZ98cDPvk/qgxv6hql1BM+yZxevdzN+LebdWVNtXTuNq/7rxiiss6ouj13+imlflbGPf6dUqq9GT7Fx/5Z3vMHFgAXVMunHfAeMMCsVycppc426+Jas24GmHEzlVKPKaVWAJdVSydJGc/ZtUqp//qE+3rhvwc6mPncB/wDmKyU+smMe9i9670WSqknlfGsGHSUeP9n1pvflfFcHQyMAqZ7z6+Gyz0eeNe0z7ceLlBGy8oyYKpSaoBZ/qvN/EPNqHG13HeZSqkoqt235r7a6kz1un+Y/cdwjx3Ls0VobWitW/QfcD9wG/AW8DVgNcPDAJu5PRz4xNw+E/ja59jFQAAQBeQAfua+Yp/4BUBHDBH8G3AaYMfwvCWZ8T70pluDja8BV5o27fHJYzbwD3PbCoQDPYDNQJQZ3tb8/xYwxidNX/tKvHZUOyYQWAdEAtHV7PXGuc/HhnN8rtMDwN990rwXyAM+AyYBdjP8OeA+c/ssYJW5fTXwvG8ZmdtrgNPN7enAuhquV6I3vC7lBaRgiBLvdX0RmIjhfZrnk25EtTK5tIa8I322/+u9Bub1/8isA6lAhhk+Gphnll8ckO9bTkc4r4eBv3rtMss82LyeE8xwf7MMK4+rIZ2rgW0YdccO7ADiTVsygbbmNfrFWx412DUPGAokA2t9wpcAl5jbdiAIQxgtBoKq1aMFQH9zOwrI9LFvt088GxDmEy8DUNRe798ELja3bwCerMH+6nX1replADwD3FEtbatpd0+Me2QToHzryhHK/RzgVdN2C8az53SMOrfWvFZh5vndVttzq4bwoz13/MzrH23GGwfMNLf3AgE11PUJwHM15HUmh+4t7/Ms2fz9DoeeC5nAv2qpO18CE83tm33sT+RQHa3cruF5UOO9a25rYGwd411obj8O/Ke2elDN9k1AglmWX/mELwBe9LkHt2F4GjHL1EYt953P9Yqq4bxrqzN1feYvoG73WJ2fLbVdG/lruX+txlNn8pHW2m1uhwMfmV+LT2PcODXxjda6QmudDRwEYmqIs1RrvVtr7QFWYdys3YFtWuvtZpwPa0pcGU0+5wGfa60LMV6UI8zdZ2F479CG96vADPvItAetdW4dznupjx0AU8yv298xXvBdgVOBhd54PunOxBBAYDRhvWlutweyvAlqrR8E+mN81V4BzDV3nYbxtYvW+kcMD1hYLdciAuNls9AMercO51admsrrbIyX6R9KqVXm784YD93OSqnnlFIjgUKfdA5iCJ/qpCnD87kW42XoW28+11p7tOGl9NaT04EPzfLbC/xYx/M4B7jTtHcBxoshAePlfZdS6g6gk9a6rA5pzddaF2ityzG8tZ2AgcDPWutcrbUTQ5gchlIqBqN+/Kq13gw4lVJppjeig9b6MwCtdbnWuhTjA+lNc7uu9XOeTzwFPKyUWgP8AHTAuJa11fvXgWvM7Ws4VD99qVJXa0H5bI81vU4rMco3FUNAlQNvKKVGA6U+8Wsq93PMv5XACoznQVcMcfyZ1rrUvN+/PIpdR6Km5043jO4P88y68x8M4QfGB9P7Sqm/Ar5ey9rqui/dgO1mHQCju8XpPvtra54dwqFn3/Hcz7XduwBu4JM6xHNgCCSA5RjX6YiYHq9srfVOYD7QRynV1ieK93y7Afu01n8AaK0L9SGPcE333ZGorc4czzO/Or73WH0+W4QWRmtrfy/x2X4I+ElrfYlSKhGjctdEhc+2m5qvSV3i1MYIjK+ltWbrSRBQxqGHUF1xYTaXK6OPnm//oMrzVkqdifHiHaS1LlVKLcC4qWtEa71LKXVAGQMHBmIIGUwb7dXibgVeUkq9BmQppSKP8Rzqg5rKQgFva63/XT2yUqoXRhncCIzFEK5gnFtND7W3MDxDq5VSV2N4M2rK21ckHA8Kw1O4qVr4RmV0ITgf+FYpNQlDnB6JE6mfY4E2wHazfoZhNEs9egxpgE/95PD65ntfTsDwGvfTWjvNJqQj1c9FZlPemRhe+MMG1lBDXa2BPhhNU0kYnv0BWus8pdRbGF5nl1JqIIZYGAPcgvGyhZrLXQGPaK1f8c1EKfWPo9hxLNRW19drrQfVEP98DCF2IXC3UupkU4DUVtePhZIj7DuRBcRrvXeBcp+P9CPFc2qtvTbUtf6PB7p7mzAx6v2lGB58OPL5ejnW+662OvP3OuQFdb/H6vxsMT/EhVZEa/PU+RKO0dQJhnu6vtmE4QVKNH/XNnpsPHC91jpRa50IJAF/UUZfrfnAZDA6AiulwjE8PZd5BZPP12MmxpcqGH0tqvcr8hIO5JmCrjuGhw4Mr93p5kvNN10wvCHvUdXTuRHo4o2glDpfmW99jK9LN0ZT4y+YQtB88WabHorD0Ebn4Xyl1Glm0ISa4h0H84Exyugn5O3n18ns12LRWn+C4dHo63NMMkbTdHVCgX3K6LdVF/sWAuPM8msPDKujzd8Bf/deU6VUH/N/ZwwP8AzgC4ymwSLTrmPhD+AMpVQbZXSevrSWeOOBkT71sx9wuda6CNitlLrYtCvArLPzgGvUob6GNdXPIw3iCAcOmoJuGIe8G7XVezCaAj+gZi8dVKurviiDKRjevLkYL+8SoMD0Unr72YUA4Vrrb4FpQK8jnAMY5XeteRxKqQ5m/VsIXKyUCjS9nRceJZ1jZRMQrZQaZObrZ/aVsmA0//0E3IFxnUPMY2qr69XTTVRKea/jlcDPdbBnEYf6YR7P/VzjvXsC8Xyp8b4xr9VY4GSfen8RPv2dfdgEtFdKDTCPDVV1H4xQPf/a6kxtdb/68ZnU7R47lmeL0MpozaLuceARpdRKGsAjabqubwLmKqWWY9yABb5xzBffSIwRaN7jSoBfMR72U4FhZlPfciBVa70e+D/gZ7MJ9Snz0NcwXtKrgUHU/iU5F7AppTZieFt+N/PNwuiT9KmZhm9zypcYLwDfl+Ycqja/XAlsMl3672L0zXBj9I/pZzanPQpcVds1M7kGeMFM50S9XQCYzWL/Ab437ZiH8RLvACww83oP+DcYL0IMEbCshuTuwWgiXwSk1yH7z4AtGM0v72A0cdSFhzCE+Rql1HrzNxgvm3WmzWnAO1rrHGCRMgZ8TK9L4lrrPRh9a5aa55LJ4fUzEUNU/e5z3HYMwXMKRplPMa/pYiBWaz0Xo74sM230TsvxBEbn95UY/X1q432gv1nnJ2Je4yPUe+8xbailiwOH11UwOpivxuhPNAAYprV2aK1XYzR/pWMIxUVm/FDga/NcfwVuPcI5oLX+3jz+N/NcPgZCtdYrMO6t1aZdfxwhmf8opXZ7/46Un0++DowX+mPm+a0CBmP0D3zPtGUlMMP8iALjQ+ObmtLzSbcc4978yEzDgzGzwNGYCtxsHtOhLudQLd/a7t3jileNWcDt6vCpU4YCe8zuEl4WAqnmh5lvvg6MD/bnzOs9j6N7hb3HVrlvj1Bnaqv71e2v6z1W52dLXc5DaFl4OwULx4FSKkRrXWx+Eb0AbNHGSLsWhTL6lzyttR5aLfwzjA7SW5rGsoZBKXUJ0FdrfU9T29KQ+NRPG4b4nOntI9eSUMaI04u01lceIU6rrKsniumN/EBrfXZT2yIIQsPTmj11jcHfzK+e9RjNHa8cJX6zQyl1J0Zn5Jr6qtzJ0b+GWyI24MmmNqIRuN+sn+uA7cDnTWzPMaOUeg7DA/zQUaK21rp6oiQA/2xqIwRBaBzEUycIgiAIgtAKEE+dIAiCIAhCK0BEnSAIgiAIQitARJ0gCIIgCEIrQESdIAiCIAhCK0BEnSAIgiAIQitARJ0gCIIgCEIrQESdIAiCIAhCK0BEnSAIgiAIQitARJ0gCIIgCEIrQESdIAiCIAhCK0BEnSAIgiAIQitARJ0gCIIgCEIrQESdIAiCIAhCK0BEnSAIgiAIQitARJ0gCIIgCEIrQESdIAiCIAhCK8DW1AacCFFRUToxMbGpzRAEQWhRLF++PFtrHd3UdgiCUL+0aFGXmJjIsmXLmtoMQRCEFoVSakdT2yAIQv0jza+CIAiCIAitgAYTdUqpmUqpg0qpdT5hbZVS85RSW8z/bcxwpZSaoZTKUEqtUUr1bSi7BEEQBEEQWiMN6al7CxhZLexOYL7Wuisw3/wNcC7Q1fy7AXipAe0SBEEQBEFodTSYqNNaLwRyqwVfBLxtbr8NXOwT/o42+B2IUEq1byjbBEEQBEEQWhuN3acuRmu9z9zeD8SY2x2AXT7xdpthh6GUukEptUwptSwrK6vhLBUEQRAEQWhBNNlACa21BvRxHPeq1rq/1rp/dLSMyBcEQRAEQYDGF3UHvM2q5v+DZvgeIN4nXkczTBAEQRAEQagDjT1P3ZfAVcCj5v8vfMJvUUrNAk4BCnyaaQVBEFoeWoPTCaWlaKcT3G5wOlG7d0NhISQnQ1QUrvyDMP8HdHAQlJej3BqLW2FxusHlQpeW4o4KwXHuUEpCA7Bl5xE4cxbWCy/Bb8DpTX2WgiA0IxpM1CmlPgTOBKKUUruB+zDE3P+UUtcBO4CxZvRvgfOADKAUuKah7BIEoeWgtUZrN6BRyoZSqsp+t6ccp6sAt7scpaxYLYH4+7UFFMXFeyh1bsFq8cNiCQAUNqeNwO2F2BxWKrILycvfCWmRqE5hVFTkYv1yF/bfNhDgKsfmX4oLF44K0H5WbHaFSojGfdAPtWArga59KGsR2ulGO90oh5Oy1E6UvXgntqV5RNx0O/55+QCow87sEEd7CCszjgryY/97V9HuifnYF29nV1YA8SLqBEHwQRld21om/fv317KihCCcGIZwcoGyYFHWynCHMxe3u4zSit1YLXbCglOxWPyocGTjcOWjtQd3aSD2oHACg8MoLd9N9oGNFBQ68Y90E2LzYLWEQ3EMbeM6UVy+ia2ZW9hvLcNqtdErMgw/VyKZv5bi33EzgbEFKKUp2x5I2ZpIovq6cbTPQFsqQGuCft2OfXchlFvBUgpa444IomRgJ1xx4YR/soo2n6zCmluKJbcca1kZWC24QwJwtw0Ci4XAtXtrvAaFI1LI/ttgOo95AwB3mB3tZwWXRjnd4PFgLXdWxq/o1BZHQhucVj+c5XY8bhuBOXuI2LaPvBGp2HfnYc0uZvXlZ5MfEo7baqXtHyEUdHcSasmi6+LVWNv6Y1+xmwptY9lFl7BsRE9KQ0Po/l4YB8blERNcRlrAPjxOF0t2t+HyG6eTF5FApx2r+XDq9YRf8zDn9Tq+fsVKqeVa6/7HdbAgCM2WFr1MmCD8GXC5Syiv2IfWbgL8Y/CzhQOaguJ1lDv2obVC4UdIUCeC7PEc2JJDQckqAqPLsQeHUXywGL34d+y5B6gYlogjIhCXy4kzO4ag8CB08HY82gGAcocSau/Olh35xMRtqWLHnqzPazawCLTHgrJ48LgVpcF+lJZDYZmDtum78csqYlvfeNxRIfit30//d35D223EzF2DtdxJO2DtY1OJm/EZwfv3YHG7j/taFYR2oigxCU/vAFRgLAWbgnGV70eXFxNaUYa1z+ls6ZNE56G70AE2vivuReDva7hq5puEfbeRisAwLlo8Bx1mJ5cgPAcDGeQO4qf2RbTd4oduu48Y/1JuC/2d3MJIph88m9wOCkugJtxi5eGbnmHInGcAeObuf9H1znuIdNi4Ln+v0eEEuDYkgri9EVyzdRf7Z7i4c28sV54WzM78fJ7IzYV7jXh3tI0kLTyULaUV7HwFthRso1/B6wDsOm0E8V2Dj/s6CYLQOhFRJwjHidYeHM5cnO4igu2dAEVxWQZl5bvxaBd+tlCC7J3QHs2ePfMJCA7AarNDUTxZa0IJ6roeHZKBy1WK9oCyeirT9jj8sPg7jX5ZHg3WQ2Oawl7fSMiCdQTv3kP2a1dQ0bUdAI6PN+Kas5HoRVtpn1PC5meuo3hkHD1SHjrM9g3r7sLS3oEbyJhzMktG2rDiIbmogJ7uFYTEWfiMHmwjkv7z3HQ8WE7kpZuIsBdTgZUZeggcLOW0+T9x/T1PHvO1c1ssWD2HzvfkO54FIJ1RhF82CGtsIHteX0tq2WwCKAZgd8fR/G/3DNz4c93afWTv2ckvI9tyHUMq05lh+505jzkp6ObkSITv1ZTGuXFig7Mu5KJZXxFRms13I85iV1gsLxLH+ze4WfTqAX6iiAF2O3c54xjv7yY91MP1JLCobRLfX+nghy/24Ab+Gh7GkDsvAVPULRowmKnBwagQRWSRlRxTrA4PCyKhnYUnV3fCfwWkjjFsuiYigk8Ki9juMmwfGGhHKQvJwYHcOR0K6AnvGXH/NWgQBAUd83UXBKF1I82vwp8GrTVuTylgwWYNRGtNQfFqcguX43DlERacgkUFUFC8hiB7POXlWZTv6IKt41o8prA4ETwOha28FE+oHZTCWeJHSUYS2lpEe8sKEse/hbW4goIh3dF7nURs31rl+I8Hfc/wDTcSUbCtSvjF336LMyKIbwafWWdbtp/UmdnfP4Ljq04sDO7EvrNKK/e1ybBQ0MXFnZHRPL0zj7A9BTx/3v2k6lo8dbWwr317vr7oIq575RUsvs+ZN95g5qjRPFmYC1rz4vXXc8aCBbiST2bXS2tIHAZKQXkBlOdBRMl62LyZkgtH8dNUC7mXlvJp11y2OA3x41dRwXvjxvHilCn8fNZZAPQOCGBVRUVlln8kJjIgM7Py95tBcSRE2fhPVhZ3RUbSedIkeOstpj3/PPPPPZc1nTuz9WfNqPjtADzWrh0XhIRQ4vEw5cAB7o+KIt7PD4Ap+/czv7SUpYmJBDudYLcDsKaoiJ4hIQCUeDwMzMwkwWZjTkJCrdes3OOhn2nn6qQkbL59CH/+Gc4809j2eIyLdJxI86sgtE5E1AktBq09Zl8uF/62CCwWf8oq9lFSth23pxybNQSLxR+nM5+i0s1UlBei8MdjyWsQe9zFsP/fHWn/ty1YegYCkJUeScwdb5GybjkAG1fegScskOBbtpA45/3KYz+4/+88deVNdHo5mlumv8Aw7jtqftt696PzKiPdfz39NPfecw8hxYbYnDRzJq9cey1/e+stFg8dylN3382IWbMqj/2hoICp2dnYnE5Wd+8OwOhdu6hwa3Y4nJyZEca9f4lg2M6doDU3ZWRw85NPUrxnDyEbNhzRrvLRo7l08mRyoqIYumABt2dk0O7++3FERvK/wkIuCQ0l2GKBbdsgLg7sdso8Hvqb4mVUSAiLy8r4uVOnGtNfVV7OPVlZbHMe8r51sNnY43JV/n6jfXu+LylhdmEhAGuSkngsJ4f3Cwu5PyqKy8LCquS5vnPnqplojV6/nozkZLr6+1cG/1xayoKSEu47ljkxDxwwBFe7dnU/xodPCgvxU4pRoaFVd7hc4OcH4eGQn39caXsRUScIrRMRdUKjYnjLylHKgtUSQFnFPkrLd+J2l4Ky4HBkY7OF4HDm4XDk43Ep7EFtAA9FRZlgPeR9cRWGYgsrMtOt6rhwlQRSnm3H4u8mqL3xoi/ZE86WNwYR3n0/SWNXGfHKbKz5vxGgNIHRZbRNbMOKpztQsrMt4d3385evXiL80T/YsdbJkKU/kPXw+7x413hsyWu5e3OvKueWtd7J0rvHcf7nn1YJH/b7Un46deBh16Lv+vU4/P1Z3vsUKqwuNl98Mc7d2Qz68VsAVvTrx8RZs9AWC18PH07SdsNrtPShh7jmiit4OTaWocFGvyrXQw9hu+ceTl+yhMfS0hgYGMi906fzf3fcwcI5czh95Eg+LyriiZwcFjz6KLZZs3giI4M3TRH0TceOJPr5Me2FF7jx+efptmmTcV0jIvh26FC6pafzwtSpXDNxIj2riw3g8j17WGt6xpYnJmK3HH0KzI8KC+lgs7HB4eDp3FyWJCYS4nPcsrIyrtp3aGajtIAA1pl5fNGxI7E2G6dkZjIpIoIpbdvi0ZpHc3K4JDSUlICAo+bfIlm2DDp2hNjYE0pGRJ0gtE5E1AknjNYeCks2UuHMQmsPHo+DguK1BPp3xOkupMK5/9jTdAaRtbQjrnIIT87GFlzGgV+6cHBxEq5yP8I6ZxOWnE3uqnh2f9uN0r3hpE7IJyB+G/t+D2P/gi70vUER1gEW/tdIc8ws2NGxnM/+7abzjxUM7z+LviunMHfECLps2ULXLcbAgNLojgz/8Ef8gux88v1Mou6/v042u7/6iuIJEwgvLGTETz/x3bBhAOw691zi58xh0syZ/HrGGTw7ZQrDv/mGnFde4ZLevVl4yin83333MfD22/lLcDCFbjcVWhNisVR6lt5+4w36P/wwAK/t3MkzTqfRPPfyy3DTTRARgdPj4Z3MTK5r0waAmfn5PJWby5qkJCy+iveZZ2DaNLbu3s0oUyStj42FCRPg88/Zk5JCh6lTYexYaNOG3tu24fWRrUxKwr+GZr8Sj4f/ZmfT127nsrCwYyhpmF9SwpQDB5gVF8fJZtPlZ0VF3JOVVbnkzKiQEB5p1451FRUEKsVJPt404dgRUScIrRMRdUKtVDiyKShZT2lZJmWO/Xg8FVgtdqOJ01VQpzQ8DgsW/0Md4rUHDi7uTMxph/qFrXpwJLu+7kFIpzx63bqWzG+j2fZBf4JjFINvg6XPQ8EOGHo3RPeAuVOhNAuuWgBhHeHN04zws75xklPiYV6im5P1G7z3Rgwr+vfnHmc7Ti8KoaKngwt278bqcvHliBEk+vSxqo7Tz48hmzYxe9Qoktat49kVK2j31FOMf++9KvGu37uXdQcO8HufPhT+7W+EvfYa6+66i04PPcSe4mK6h4cDUBwaypObNvG/sjKsLhdrunWDm25i4vjxvDN0KHc/9hg3T5tGnNlP6zCysyE6mqKwMGZu384b+fms6dwZHA6jma+gAAYMgKVLj14oX38NF14IixbhGDQIv9JS1KhR8NNP8Pjj8I9/gO3QGCqH1tyflcXFoaEMDAw8evrHyPqKCsbu2cNzMTGcFRzMDyUl/OPAAfrY7bwcG2s03Qr1iog6QWidyOjXPynljoOUOw7g8TjweBy43EU4XYU4KgpxOotwq5r77Lg9Zbg9ZVXCHPl2Mj/pDVgIOykXW0gJmR/3pnBlH7qcp1j1psZV4abHGBunTIWv/w4VhZB0Nkz8AdpOhZ194aQRIUR1iycqEHJ+hYvehKSzYPBt4HbAfuWkyOPhtnEBfFtSzOOzZ3HBe0v45zXR/HjbbYzYk0/itm18bBtLYF4eI8YZ9t3y8svsHD2asBKjuidu305iZiYzr78eFRXFNY8+ijssjN969SIpPJwOX3+Nn9PJ1U4nIQcO8NG4cVySlsbqF1+kxwMPELNvHxeWljJ1+HBeV4on/f1Zl5ZG+x9+AMAvIYFQi4XuYWFw6aXwySeEpKVxX/v2/G/bNtw2G0VnnknokiU8c+ONRnnY7bS3HeF2jIri+exsXi4oYILHc8hb5u8P3qZGU0AeFW9/ssxM/AcPNkTcTz/BO+/AX/96WBrFhmkAACAASURBVHR/pXj4OPuH1YVQU7QVeTzkuN3cl5VFR5uN52JiRNAJgiAcAyLqWiFaaxzOXFzuYlzuIhyufByOHByuXJyuQpyuwwWbx2VDl4eRuyGM0j0J+AV0wR53AGtgBaV7wslPjyHrtyRUeQIHV9vQbuh4KnS/BBY/YXjOxn4KJ/0F3hwK+1fBDSugfR8Y/qji4Fobcf1BWeCf+2DTl4emcmjfB2J7ez3GipTRsG54IeNzc5meF87Qd98le+tWHuvRg/lnn02PgADK163jy7/9rdL+XrNmob7/nnO/+YbAvDxW9elD75UrAXj+xhvZ9vjjLLnhBhLGjWOW2eF+9F//SsQZZ8Ajj2DRmknbtxNltdJl7FjemDiRyzMzCS4spEtMDAl+fiT4+TE8OBhrtSbIW9u25bsuXUj73BgdGpKYeOjC3nEHzJ0L9xkDIVYnJbGhooLQU0+F6dNpW14OwJOdOh11NGOMnx8a2OtyVW0CfeMNw/M2ffrRqoaB2TxLQQEsXw6vvw63316joGsMwnxE3YcFBeR7PLzWvj0RVutRjhQEQRB8EVHXgtFa43Dl4XDmUO44QHFpBh5PBQ5nDh5ddZ4uT3kA7uK2lOzqSM76Ltiji8ldlUDumljKdsVSvNcOWtG+H/SaCCteheB2cO5zQCKs3w197oOTzoGivZC5AFIuBVsADPlX1YEKk1ZWtdMvEDr4jBPwC4Lg0Q4ezTdGRnb192dsRgbnPPss56xdS+CFF/LQqFG4bTa2/OtfDH39dWKAGcCmAQO47eGHmfz++zgCAjh74UJeu/pqum/cyOQ5c5i0bRtbu3Rhwscf82S7doz092fmq68y8JVXGH/nnST//DNBF1wAQMRJJ1Xa5F1+KtvtxpWSAkDb5cuhooI+Pl6qwBo8R0opSrt1q/wdkZR0aOeAAVB8aDoUm1L0tNsNb5nbDVvNaUvq0KwZa3rydjqdVUXdBRcYBVBXvH3eCgvh5ZchJAT+85+6H1/PeAdHFHo8fF1czJDAQFJb60AHQRCEBkREXQvB7amgtGwH5Y79VJgizuHIRlN19v2CzdEUZXTFUWhn77xuVOQEU7wjEpvNTlmeIcJOnQYxbaECSLkJek6Awj2Gty2mJ1hscMqUqvmfef+h7dA4OPmKqvuPNmVWicfDlXv3kuVyccG333LarFmc6fFw33//y+QBAzjt9de58YUX2JmQQPvbb+feNWvY8tRT9Fu2jD8GDuTR2bO58P33ufqBB/jynHNQWsMNN5AbFcWYL7/khzPOYOgPP2DLzaVzx46sS0qqFGpX3HQTp557Lte8+CJTn3rK8JzZbNC+fRUbhwYG8ktZGflt2+Lu2BHrzz8bO+rQ8d9iCkGA4CPMQ1aJN87mzcZ/c4DAkYjxijqXi3Yn4sUKCgKr1RB1330H559fp3NsKGxKEaQUGQ4Hu1wuxjehLYIgCC0ZEXXNEI92UeHIIqdgCQXFqw/brzyhlO2OYd+vncldF0lhRjRF26Jw5B2aYb7P9RBih3a9YdC7ENsLynINwRZgvjPTxh1KMzze+DsetNa4AD9TRB1wufjHgQN4cnKYccstxPzyC+4uXdj03XectGUL/5wyhfKgIEKKihg8bBh3pqczbt48nAMG8ObXX5MydSpjPvgAy3/+w/6DB1lyyimkezz0mTQJJkxAvfkm5ObCQw9xn8XCA9nZrOnZk4Hr10NQECopqYrKtFsshNtsvHrTTYz+7Tfif/sNEhMNYePDi7GxvFVQQJjFgjUtDX77zdhRB5ER3aPHoR91EGjEmxfbK+rq4KlrY3q0HFrXOAK1zihlnFNuLuzZA8nJx59WPRFmsbCw1JgAuX8DDMYQBEH4MyCirhng0S7KyndTXJZBecVBSsq3Gwus+1C0IYU1T/cif2MsZfuMDvHBMRAUZawglXoRnPMUHFxrNHXaatAVgW3rx17viGmvJ+yB7GxK3n+faa++SqzVykfz5rGmooIHnniCmF9+ASAsI4MrP/2UO8rKUG439q1bKXj+ecIffJBHzclw9R13cF+7dmQ9+STqo4/g3XeJzcoiy2z+TPX3N8TYAw9U2nKex8MD2dnsb9+ekF9/hcjIGgcMnBEUxCdFRex+5BHiL7kEzAEKvliU4tqICONHQoLh0QOoYV626gzoZcxZt23QIDofJS5wuKirgxAM9Wn6PSFRB4ao27TJWJmgY8cTS6seCLFY2G8uo9XhSANGBEEQhFqRp2cT4XKXUVSaTmHJRkrLdlQuqG7VbXDt7cOe+QmkfxhN4ZZ2oI0XeMJp0Pl0YxqPyGTod8Ph6XY6vf5t9fXE7ayo4F/ffMPWrl2Z2bUrMTYbe779ltemTauMf0v79mxYvJgx775LZr9+XDNjBj8NGcJl772HOuUUiI7GFh1N0P33k/P880Tm5gKgxhgjJ6Lj4qBLF1i4EJxOTjVHa54VfPgC5t7+WFnR0diKi6G8vEZRd29UFDdGRBDXuTPk5By9vdhX6NRhVKm/nx+FO3fSMSrqqHEBQyi2aXNMnroApbABLupB1IWHgzmZMZGRJ5ZWPeA76bD9RM9NEAThT4qIukbE43GQX7SawpKNlJRnAho/WwSWwpNZ/3IXNr2bhKvE6CDuHwJh8XDBy9DtIsPLZq1lCrOGJNPh4Mq9e/FXijcDAkho3x7v4lO3P/00344axb8WLgTgyT/+4J8DBgDw4uDBACScfTYHY2NZesopJJaUwP79lX3Z/JTi8pUrufuaa1Dt2nFGf59ps1JT4bPPAEhLSjp8WScf3omLI8+73+WqUYTZlDo0B1xdREOHDoe269jHKyz+GNuv4+NhzRpjuw6eOqUUoRYLeR4PAfXhqdu509huBp4xr0hVcOLnJgiC8Cel6Z/mfwKcrkJyCpaQV7Qcj6eCAL9o2gQOYfsnKcyf2h7tOfQSG/wv6H0VRHU3pv9obLwLivdbupR3xo8nEcjfvBmP1coPDz/MtT5xp0+bxrwRI0hZvx7Pqady7skn02/dOpanpVXGsdx9N78FB5Pdvz/tZs40OunHxFTu72CzcfNrrzE8KIgzfA3xEXXExR3R5n52u+HZ81LX+dqOhG+eDdVxPyHhkKirYz+yEFPU+dWHqPOuH9oM5oLziroApSqb9QVBEIRjQ0RdA1JWsY+cgt8oKF4PaMKCU7Dmn8q7/eMp91ljvtPpxtQhMT0b38Yij4e/7NzJtLZtGRcWxvclJVhdLt4ZP74yztrkZAZt387An34CYOrevTxrip43pk6lR1ERlm7d6O7vT3lgID22buWRrCxG9eoFdjthQFhaGpSVGfOiXX55ZdodbDb+ACKrj+b07bxfbZRqjdS3CPNNrz5EYk34jpKty+AKDvWrO2Fvlq+IbAbzwXlFatPLS0EQhJaLiLoGoMKRzf6cuRSXbcWi/GkbNgB7+aksuD2CtR+ANmchufgd6HVl09p6/s6dfN+zJ2FFRayZM4cN/ftzjneAgA8vPvccaevWcSAmhvZ+frBvH7RvT7958yA6GoYOrbK+aHH37lWFinceN7e7ikhrZzb9HbZygG9TZl1EnW8c72CHE6ExPHW+51hHUefte3bCfep8RV0z8tQJgiAIx4+IunpEaw/Z+YvIyv8ZpWzEtB1OmL0fix+zs+gxQ8ydfAX0uQ4Szzh6eg3B72VlXLdvH1eGhfHPyEj+NXUqYUVFAPQ891xeyMhgwMGDAPx3yRLO/PxzTnvkEfo89RQAHovF8BbFxhpiwOMx1iWNja2Sz/khIVUz9pmc11fMtDW9RN2qL9DuK3jq0jTp602rjyWtfAcPNNQUG76eujp6y+rNUxd0aPqb5uCp8+1TJwiCIBwfIurqCYczl10HPqbcsY+w4BRiI8+jZHcIr18AWeuhxzg4+2FoU6f5LhoGl9Y8sHgx8RYL73bqxMDAQC748ssqcUbceScdlIKYGP4zYAAMHAiPPFK5/3/jxxPv7Vh/003w/PPGagamqFuSmMhel4vw6kLB15PmI9jGhYWR4OfH6dWF07EOOvAVOfUh6pSCvn3B6azbwIrjoS6TFFfD66k74T51zbT5VUSdIAjC8dP07S6tgLLyPWzb8wZOVz7x7S4jPmYsa98O4aWToXA3XPYRjJnVNIKu1OPh2dxcslwubBYLc4YPZ+5ZZ3Hp7NncbU6ncfD00xm7fDkAoz/+mN5ffGF4qrzCISurMr3Xb7yRTt5RpKecciijTp0AQ3QkV/e6QVVh5CPY/JXijKCgwzvHBwTAv/9trHhwrNTX4vO//HJoAuKG4FiFK/XoqfMto2bQ/Fop6qQZVhAE4bgRT90JUly6jV0HZmG1BtMp9q8E+Eey9AWYcwsknQ2jXoeIxKaxTWvNgMxMAL7YuJEfffY9eNdd5JkLu4deeSXv9O5duS/A4TAGNXiJigKt6bFtG+DT/+nssw/F6du37obVVcw8/HDd0wRYuRJmzzbsrQ98mygbgqOM6q0Jr6fOdqLix3cak2bgqavhM0AQBEE4Rpr+E70FU1q+m50HPsTPrw1JcdcS4B/J+o8MQddtFFzxTdMJOoDvS0oqt+8zF2x/ZfLkyrBu6ekA2FNSsFssZEVHHzq4X7/D0osyX/5p3sXWfZtU6yKkJk40/vvmU5/07m00FbcUb4/fsU886PXUucxVPeol7+bkqWtiOwRBEFoyTf80b6E4nLns3P8hftZQEttPxM8Wyt5l8PlVED8YxvwPbAFNaOCddzIiNJTk9HR6BwRwxoIFgNF86vWq3fLsswDGKg9A2O+/Hzr+5JMPS3JOfDyLOnWq2kS2Zg2kp9fN2/Pmm1Ba2ixERLPh669h2bI6Rw/yWf/1hGhunrqWIsQFQRCaMdL8ehxo7WbXgY8BDwmxE7BZgyncDR+OgpAYGPdZ0wm6Htu2ccHnn/PYY48B8Nn555PjMtaRLQ0MpDQkBKZPr9p0ar7gA3xXbfBZ9stLkMXCYQ2SNYi/WrFYGm4kaUvl/POPKbpX/LQ2Uef11J2wB1IQBOFPjIi64yC38A/KHfuIb3cZAf6RaA98PA4cxXDl9xBcT/30j5WtDmP92Mf++c8q4ZGbNgEwb+RII2Do0NoTcbmMaUqOo2lQaHjqTfL4irpm4Dn1ijp3E9shCILQkmn6p3kLw+Uu4WDeAkICTyI0OAWAFW/ArsXGqhDt0o6SQAPyeE4OQT796O584glj47rrAMhr25YzgoKqCrYrq81+bLWKoGvGJJhlc+qJejx9y7gZeOq8DyKPeOoEQRCOGxF1x8jB3B/xeJzERo5AKUVZLsy/EzqdAb0mNq1tv5aVcdrPPwPwzD//yXfnnWfsMPvKBQ0fzgzvuqu5ufDMM/DWW01gqXC89LPb+T4+notCQ08soWbW/Op9EImkEwRBOH6k+fUYcLqKyCtaRduwfgT4GyM4F/4flOXBuTOacNDlO+9Q3qULxMYyZvZsAD4bMwZHQNWOfWP79z9kZJs2MHVqY1sq1AMd6sOT6ivqmsEgBe8ScyLqBEEQjh8RdcdAbuFSwENk+CDj91ZY+hz0uRZiejaRUebL0A5E/PEHyRkZANzQrRv7PR5jguAlS4y4Xbo0kZFCs8PXO9ccRJ3539OkVgiCILRsRNTVEY/HSV7hckKDuuPvZ0zau/BBsPrBsIeaxib9++9V5vVaNGBA5fYEc2Jh7r8fzj23Ue0SWgDNVNSJp04QBOH4kT51dSS/eA1uTxmR4acav3fA2g+g7w0Q2v4oBzcQatCgmnf4rtgwciQsXQr5+Y1jlNAy8B3x2hxEXTOwQRAEoaUjoq4OaK3JLfgdu38sQXZjEfbfngQUDLq1aWxyFxVVbh80V4aopLpnbsAACA9vBKuEFkMzE3VNb4EgCELLR0RdHSgp20qFM5vI8FNRSuEohpUz4eQrIPzY12SvF3b171+53a5bN/jb3w7tvO++JrBIaFE0M1HX9ONvBUEQWj4i6upATsESbNYQwkKMSejW/w+cJdBvUtPYk15eTuLmzQBU3HKLEfjcc4ciHMdC8cKfjGYm6qT5VRAE4cSRgRJHweUuo7hsK1ERQ7Aow5+wciZEdYeOpzayMeaLr7tPUMDTT5sbASATtwp1pRnMTeeLSDpBEIQTp0k8dUqpaUqp9UqpdUqpD5VSdqVUklJqiVIqQyk1Wynl3xS2Vae4LAPQhAZ1AyB7E+xaBL2vbWQHxw8/1BxuE10uHAfNzFPXvCSmIAhCy6TRRZ1SqgMwBeivtU7DeJ5fDjwGPK217gLkAdc1tm01UVyyGasliMCADgCsehOUFXpdeZQD6xOPB+644/DwnTsb0QihVdHMRJ1qBjYIgiC0dJqqT50NCFRK2YAgYB9wFvCxuf9t4OImsq0SrT0UlWUQGpSMUgqPC1a/DcnnQ0hsIxrywQewYgVfvvQSZy5ebIT9/e9Vpy4RhGOhmYk66dwrCIJw4jR6253Weo9S6glgJ1AGfA8sB/K11i4z2m6gQ03HK6VuAG4ASEhIaFBbS8t34fGUExLUFYCMuVC832h6bTTKy+Huu/H07ctdw4fTWfrOCfVBMxN10vwqCIJw4jRF82sb4CIgCYgDgoGRdT1ea/2q1rq/1rp/dHR0A1lpUFS6GbAQEnQSAKveguAY6Hpeg2ZblRkzYOdOPrrnHrTFwkSZb06oD5rZihJNb4EgCELLpylaPYYD27XWWVprJ/ApMASIMJtjAToCe5rAtioUl24hOLATVksArgrDU5cy2lgarFHIyYGHH8Z13nk82NNYXPbS0NBGylxo1TQzT51MaSIIgnDiNIWo2wmcqpQKUkbv6LOBDcBPwBgzzlXAF01gWyUOZx4VzixCg5IB2PmLMTddo3rpHnoIiop469//BuDxdu2kQ7lQP1iaVy+25mWNIAhCy6TRn6Va6yUYAyJWAGtNG14F7gBuVUplAJHAG41tmy9G0yuEmKJuyxyw+kPisEYyYOtWePFFHNdcw8sdOnBBSAjnh4Q0UuZCq6eZeeoEQRCEE6dJJjnTWt8HVF/LahswsAnMqZHi0gz8/SIJ8GsLQMYc6HQG+Ac3kgEPPww2Gx//85+Uac010pdOqE9E1AmCILQ6pNWjBrT2UFq+k+DAJADyMyF7I3Q5t5EMyM6G99/HfeWVvB4UxCl2O90DAhopc+FPgQyUEARBaHWIqKuBCsdBPNpBUIAxD9yWOUZ4o/Wne/VVqKhg0fXXc8Dt5qqIiEbKWPjT0Mw8dU1vgSAIQstH1piqgdLyXQAE2Q1RlzEHIpIgMrkRMnc64cUXYfhwXo2LI97tZmhgYCNkLPyp8BVyzUDUCYIgCCeOeOpqoLRiFzZrCH62CFwVsH2+0fTaKO++Tz+FPXvYddNNrKyo4PKwMJnuQah/mpmok1HdgiAIJ46IuhooLd9FkD0epRQ7FoKzFLo2Vn+6Z5+Fk05i1mmnYQMulnnphIaguYm6pjZAEAShFSCirhpOVxFOVz6BAYeaXhttKpPVq+G33/DcfDNzS0s5LSiICKssoCQ0AM1snjpBEAThxJEnezXKqvWn2z4fEk5rpKlM3n4b/PxYM3Ys+91uzg1urPlThD8d4qkTBEFodYioq0ZpxS6UsmEPaE9pNhxY00heOpcL3nsPRo3im4AAApRimIg6oaFoZqJOEARBOHFE1FWjtHwXgQFxWJSVzJ+NsEYRdT/+CFlZuCdM4LuSEs4ICiJYmsiEhqKZibqmt0AQBKHlI6rBB4/HSXnFvsr56TIXgF8QdBjQCJnPmgVhYSwbNowct5uR4qUTGpJmJuoEQRCEE0dEnQ9lFXvReCr70+1cCPGDjYESDYrDYUxlcvHFfOt0EqQUpwcFNXCmwp+aZibqmt4CQRCElo+IOh9KK4xBEoH2eMpy4cBaSDi9ETJeuBAKCnCNHs28khLOCg4mUJpehYZEVpQQBEFodYhy8KGsfA/+trbYrEHsXARo6NQYou6rr8BuZ8mQIRR4PNL0KjQ8zUDI+dK8rBEEQWiZyDJhPpRV7CXYngDAjoVGs2uHgQ2cqdaGqDv7bL72eAizWBgiTa9CQ9PMml+Fpmf58uXtbDbb60Aa8sEvCM0RD7DO5XJd369fv4M1RRBRZ+J0FeNyF2IPiAOM/nQdBoJfQy+7mp4O27fjvO025peUMCIkBH95yQoNTTMTdbJMWNNjs9lej42NTYmOjs6zWCy6qe0RBKEqHo9HZWVlpe7fv/91YFRNceRrzKS8Yg8AgfYOOIph73LodEYjZPz11wCsHD6cEq05R5pehcagmYk6oVmQFh0dXSiCThCaJxaLRUdHRxdgeNNrjtOI9jRryir2AopA/1h2/Qba3Yj96Xr3ZkFkJP5K0d9ub4RMhT89IuqEw7GIoBOE5o15j9aq3UTUmZQ79hPgF4XF4s+OhaCs0HFQA2eamwuLFsEFF7C4tJR+druMehUaBxn9KgiC0OoQBWFS7jhIgH8MYPSna98XAkIbONO5c8HjIWfkSLY4nQwObOgOfIJg0sw8dU1vgdDY3HzzzR2++uqr0HfffTfi3//+d2xT29PcmDFjRuTEiRMTmtoOgIEDB3ZbuHBhvY3gO+WUU5JLS0vVtddeG//DDz/U2OeoQ4cOJ+/bt++wfv/vv/9++F133VVjfQkKCupTU/ill16a+Oabb7Y5Math06ZN/l27du1xouk0JCLqALenAqcrH7t/O1wVsHsJJAxthIy/+gratWNhmtE8PkREndBYNAMh50vzskZoDJYvXx48bNiw4gULFoQOGzasqDHzdjqdjZldnWhsm5rqGhQXFyuLxUJQUJBetWpV8NChQ0uP5fgJEyYUPPzww/sbyr6mpD7KREQdUOEwRgbb/duxdxm4K6BTQ4s6t9vw1J13HovLy4m0Wkn2b+ilKwTBpJl56oTmx6ZNm/w7d+7c4/LLL+/UpUuXHkOGDOlaXFx8wpVl0qRJHZOTk1PXrl0b3L9//5RZs2ZF3XLLLZ1uu+229tXjXnrppYlXX311fJ8+fbp37NjxZF9vyz333BOTlpaWkpycnDpt2rQ4r82+npR777035tZbb40Dw9t07bXXxqelpaX897//jfniiy9CU1JSUpOTk1Mvu+yyxLKyMgWGh2jatGlxqampKcnJyakrV660A3zzzTch3bt3T+3evXtqSkpKal5eXpX356ZNm/yTkpJ6jBo1Kqlz5849Ro4c2bmoqMgC8MsvvwQNGDCgW48ePVJOO+20rjt27PCryabartkHH3wQ3rNnz+4pKSmpgwcPTt61a5fN7XbTqVOntL1799oA3G43CQkJaXv37rXt3bvXNmLEiJPS0tJS0tLSUr7//vtggFtvvTXu4osvTurbt2/30aNHJ1XPp3v37ql1L8lj55RTTklOTU3tsXnz5sDk5OTUzZs3B/bq1Stl9uzZ4TXFf/zxx9tVLwdfD2Z6erp/7969uycnJ6dOmTIlznucx+Nh4sSJCYmJiWmDBw9Ozs7OrvT4HaksJk+e3OHkk09OSUxMTJs7d27Ikc5l06ZN/v369euWmpqakpqamjJv3rxggEsuuSTx3XffjfDGGzVqVNJ7770X4XK5mDRpUkdvnZ0+fXoUwNdffx3ar1+/bmeddVaXrl27phUWFlrOPPPMLt26dUvt2rVrj9dee+2YPIwi6oByxwEAAvxj2PmrERY/pIEzXb4c8vPxnHMOv5WVMSQwUKZ1EBqPZibqmt4CoSZ27txpnzJlysGMjIz14eHh7nfeeeewF8xLL73U1it2fP9GjhzZuaY0X3nlld2vvfZa5pgxY7JXr169sVu3bmWbN2/e8MQTT+yrKf6BAwf8li1blv7FF19sue+++zoAfPrpp2EZGRn2NWvWbNy4ceOGVatWBc2ZM+eIL2EAh8Oh1q1bt/GOO+44OGnSpKTZs2dv3bx58waXy8X06dOjvfGioqJcGzZs2HjttddmPfroozEATz75ZOyMGTN2pKenb/j999/TQ0JCPNXTz8zMtN9yyy0Ht23btj40NNQzffr06IqKCjVlypSEL774Yuv69es3XnXVVdm33XZbh+o2PfDAAwdqs/svf/lL8apVq9I3bty4YcyYMbkPPvhgrNVqZcyYMTmvv/56W4AvvvgiLCUlpSwuLs41adKk+FtvvfXAunXrNn722Wdbb7zxxkRvWlu2bLEvXLhw01dffbW9ej7p6ekbjnYNfbnuuuviayr72ppHlyxZsvmqq67KevLJJ3c8/fTTOydMmJCVnp6+Ydy4cQU1xa+pHHy56aabEq6//vqszZs3b2jfvn2lm+vdd9+NyMjICMjIyFj3wQcfbF+xYkUIwNHKwuVyqbVr12587LHHdj344INx1fPzJS4uzvXLL79s3rBhw8bZs2dvmzZtWgLA9ddfn/32229HAuTk5FiXL18eMm7cuPxnnnkmKjw83L1u3bqNq1ev3vj2229Hp6en+wNs2LAh6MUXX9yZmZm57tNPPw2LjY11btq0acOWLVvWjx49uvDoJXEImacOQ9RZlD9+tnB2/QqR3SA4+ujHnRDz5wOw+bTTyJP+dEJjI6JOqAMdOnSoGDx4cBlAnz59SjMzMwOqx5k8eXLu5MmTc48l3aVLlwb16tWrbPXq1fauXbuWHSnuqFGj8q1WK/369SvPycnxA5g7d27YwoULw1JTU1MBSktLLenp6fbOnTs7jpTW+PHjcwFWr15t79ixY0XPnj0rAK6++uqcF154oR1wEOCKK67IAxg4cGDpl19+2Qbg1FNPLb7tttvix44dmzt+/Pi8k0466TBRFxsb6zjnnHNKAK688sqcGTNmtFuzZk3Bli1bAs8666xkMLxI0dHRlQLEa9OR2L59u//FF1/cMSsry8/hcFji4+MrACZPnpw9atSoLvfee+/BmTNnRl199dXZAIsWLQrbsmVL5UuluLjYWlBQYAEYOXJkfkhISL2Mcn7jjTd2Hesxq1atCho3blz+lWrtyAAAIABJREFUF198Ed6rV68jNr3WVA6+rFixImTOnDlbASZNmpTz0EMPdQT4+eefQ8eOHZtrs9lITEx0Dho0qAhgzZo1AUcqi8suuywPYPDgwSW33377EZvOHA6Huu666zpt2LAh0GKxsGPHjgCA888/v3jq1Kmd9u7da3vvvffanH/++Xl+fn788MMPYenp6UHe8ygqKrJu2LDB7u/vr3v27FnSvXt3B0Dfvn3L7r777vjJkyd3uOiiiwpGjhxZXNdrCyLqAKhwZBmDJLRi5yJIGd0Imc6fDyefzC8hIZCXxyARdUJj0sxGvzYLG4TD8Pf3r3z5W61WXVZWdljrzksvvdT22WefPcwzk5iYWD537txtvmGLFy8OvPbaa5MOHDjgFxER4Zo+fbpFa626d++eumzZso01iQ273V4ZprWu/P+Pf/xj3+23357tG3fr1q1+Hs8hrVVeXl7F3tDQ0MOEWE1487TZbNrlcimAh/+/vTsPj6o8+wf+vWcyWSAxkARDDFnIBgQkgEFjAGUpRUGqoFSoC4oWFXmrWG19aUX7Q23r+9LWWsWlKqJUW0Bxq4pFFETrS4KggAmEmAQhhEBYErLNcv/+mDM0QpbJMksy3891zZWZM2fOuedMZuae+3me8zz66KGrrrrqxJtvvhk5bty4we++++7ekSNH1jd93JmtLSICVZW0tLS67du3FzS3L3diWrhwYeJdd9116LrrrjvxzjvvRLiqSGlpadaYmBjbW2+9FbF9+/be69atKwacx2fbtm3f9OrV66zj2bt3b7eOgTtuueWWhC1btpw1pHDmzJlVZ/Z7+8Mf/hDz7LPPnltWVhZyzTXXhJWXlwdHR0db33///ci33nrrrKoh0PzrcKb2nIanrdeiyf5gt9tb/VB65JFHYs8991zr2rVrv3U4HAgLC7vAdd+111579Lnnnotau3Zt1Isvvlji2veyZcvKrr766u9V3t55552IXr16nX5Nhg8f3rBt27bda9eujXzggQfi//Wvf51sqYrdHDa/ArDaTiDY0hdHCoD6Y15oeq2rAz79FJg0CVvq6jA4OBgxQcyvyYv8rFJH3dcdd9xRVVBQsPvMy5kJHQDk5ubWFRQU7E5OTm4oKiralZubW/3uu+/uKSgo2N2e6tHll19+8uWXX45xVZ++/fZby4EDB4IGDBhgq6qqCjp06JC5rq5OPvjgg2b7amVlZdUfOHAgeOfOnSEAsHLlyuhx48a1Olhj165dIRdeeGHdI488cmj48OGndu7cedZJRcvLy4NdozlXrVoVlZubWzN8+PD6qqqqINfyhoYGycvLa9cJSaurq82JiYlWAFixYkV00/vmzZtXeeuttw6cPn16VZDxPTJ27NiTv/3tb891rfPZZ5+5VTUYOHBgu0Z2Pv/88/ube+2bG8hwzz33HNmwYcOenJyc6oKCgt2JiYkNxcXFu1pK6NwxatSomueeey4KAJ577rnTx+XSSy+tXrNmTZTNZkNpaanl3//+dwQAdMVr4XLixAlzXFyc1Ww246mnnoq22+2n77v99tuPPPPMM7EAcMEFF9QDwOTJk08sX768X0NDgwDOquHJkyfPysFKSkosERERjgULFlTdc889h7Zv396uUccBn9SpKmz2GgSZe6Nsi3NZoqeTus8+AxoaUD9hAr6sr2fTK3mfnyV1vo+AvOXgwYNBkZGRNrPZjKKiolDXl157zJw58+SsWbOqRo8ePTgjIyNzxowZqcePHzeHhIToz3/+8/LRo0cPGTduXEZaWlqz2+7Vq5c+/fTTJbNmzUrNyMjINJlMuPfeeytb2+djjz12bnp6+tCMjIxMi8Wi11xzzVn9wJKTk+ufeOKJc1NSUoYeP3486N57760MDQ3V1157bd/9998/YNCgQZlDhw7N/OSTT9rs/9fUr371q4Nz5sxJHTp06JDo6Ghb0/vmzJlzora21jx//vyjrmXPPvvs/m3btvXOyMjITE1NHfqXv/ylzQ5F5eXlQarq0bfi+vXrI3Jzc6uLioosAwYMaOjs9p566qmyZ5999tyMjIzMAwcOWFzLb7jhhuMpKSkNaWlpw+bMmZM8cuTIGsBZievsa+Fy9913H3711VejBw0alFlQUBAaFhZ2utqWkJBgS01Nrb/++utPvyaLFi06Mnjw4Przzz9/SHp6+tCf/vSnSVar9azjnZ+fHzZixIghgwcPznzkkUfOW7JkidtVOgAQVzm7O8rOzta8vLxObcPuqEdBye8RGzUZn/8iF9+sBe474uHvucWLgccew+b9+3F7XR2ej4tDDhM78qbiYiA11Xm9vh4IOaurlFd9WV+P6w8eBADsSmm2fz11IRHJV9Xspst27NhRkpWVdaSlx1DrCgsLg6+44or0vXv37vLmfjdt2tRr0aJFCfn5+YWd2c6rr74auW/fvpBf//rXzU4UT+6rrq42ZWZmZm7fvv2b6Ohoe9uPaJ8dO3bEZGVlJTd3X8C3+dlszj6IQeZwVOwAYrO8ULjYsAG46CJstlgQWl+PUZwajLzNzyp1RNR+ixcv7r9ixYp+L774YoebMF3mzJnT7AhUap9169ZFLFiwIPn222+v8ERC15aAb3612Z1JnVnCUfG1M6nzqOPHgby80/3pRoeGIphfquRtfjZQwvcREHXOoEGDGr1dpXv00UcPHTx48OspU6a0a4Qkec5VV11VffDgwa+XLFnik4onkzojqTt1IBy2OqD/CA/v8JNPAIcDlZdeihKrFWN6ddnMK0Tu87NKne8jICLq/pjUGUndka+dfSX7e7pSt2EDEBaGTcOHAwAHSZBvMKkjIupxmNTZayAwoWJbGExBQMwQD+/wgw+ASy7BZocD/c1mpFgsbT+GqKv5WVJHRESd12ZSJyLTRaTHJn822ynnIImvBDFDgCBPDgL89ltgzx7YL7sMX9TVYUyvXpwajHyDSR0RUY/jTrJ2LYC9IvKYiAz2dEDeZrNXIygoHEf3ADGDPLwzY2qwvZdeipMOB5teyXf8LKnzfQREPdfGjRt7ueZlHTRoUObKlStPTzi/Zs2ac5KTk4clJiYOazpna0FBQfDw4cMHJyYmDps2bVpKfX39WW/TP//5z9E33nhjojsxfPbZZ2EjRowYnJaWNjQjIyOzvRPVk3vaTOpU9XoAIwHsA7BCRD4XkfkictbUIN2RzV4Dsykcx0uAvqke3tmGDUBcHD5KSoIAPDcd+Y7Jv4rvrFgTeU52dnb9119/vbugoGD3+vXr9959991JVqsVNpsNixYtSvznP/+5Z8+ePbvWrl0blZ+fHwoA99xzz4CFCxdWlJWV7YyMjLQ9/vjjMZ2JITw83PHyyy9/W1RUtGv9+vV7Fy9enHDkyBFz1zxDcnHrk11VTwJYA+A1AHEAZgDYJiL/5cHYvMJmr4GjLhwOq4eTOlXgo4+AiROxpa4OQ0NC0MfM/2fyESZRRN1KYWFhcEpKytDZs2cnpaWlDR0zZkx6TU2NW2/kiIgIh8Xov11XVyeuH1Eff/xx76SkpIbMzMzG0NBQnTlzZtWaNWv6OBwOfP755xE333zzMQCYN2/e0bfffrtPy3to2/DhwxvOP//8BgBITk62RkVF2crLywP+XLldrc0DKiI/AnAzgDQAKwFcqKqHRaQXgN0AnmjvTkWkD4C/AhgGQAHMA1AI4O8AkgGUAPixqh5r77bbQ9UBm70WONYbABDlyaRu1y7g8GHUTZiArxsacGufTr0/iDrHz5I6/4qGqHVvzkPC4Z3o0vNRnTsMtVe+gP2trVNWVhb6yiuvFOfm5pZOnTo1ZeXKlX0XLFhQ9cADD8SuXr06+sz1c3JyqlesWLEfAD766KPe8+fPTz548GDw008//a3FYsH+/fuD4+PjG13rDxgwoPGLL74Ir6ioCIqIiLC7EsHk5OTGioqK4NZiW758edTjjz/e/8zlycnJ9WfOA7xx48ZeVqtVMjMzOz1VGH2fO1ny1QD+qKqbmi5U1VoRuaWD+30cwPuqeo2IBAPoBWAxgA2q+jsRuR/A/QB+2cHtu8WhjQAUdZXOZlCPVuo2bgQA5OXmwg5gDJteyZeY1BF1O/Hx8Q25ubl1ADBy5MjakpKSEABYunRpxdKlSytae+zEiRNPFRUV7dq2bVvo3LlzBzY3d21n3HHHHVV33HFHVVvrlZaWWm6++eaU559//lszW6u6nDtJ3UMATk8oKyJhAGJVtURVN7R3hyISCeASADcBgKo2AmgUkSsBjDdWewnAx/B0Uudw/kCpPRwMUxBwzgAP7mzzZiAxER/GxCDi1CkM59Rg5Et+ltQRdSdtVdQ8JTg4+PRk7WazWevq6kwA4E6lzmXUqFH1vXv3tufl5YUlJCQ0Hjhw4HQF7rvvvguOj49vjI2NtVVXV5utVissFgtKSkqCY2NjG8/cflPuVOqqqqpMl19+edqDDz54YNKkSafafwSoLe4kdasB5Da5bTeWje7gPgcCqATwoohkAcgHcBeciaIreTwEILa5B4vIfADzASAx0a1BNy1yJXV1lcEI7w+YPPWjQRXYvBk6aRI+rq3F2LAwWPilSr7kZ/9//hUNUffSVqWuoKAgODU1tdFisWDPnj3BxcXFoenp6Y0xMTG2kpKS0IKCguDk5GTr66+/HrVq1apik8mEnJyc6hdffLHv/Pnzj73wwgvRV1xxxfHWYmirUldfXy/Tpk1Lmz179lFXXz3qeu4MlAgyqmkATlfWWm1bb2t7AEYBWK6qIwGcgrOp9TRVVTj72p1FVZ9V1WxVze7Xr18nwnA1vwKnDgUjPK5Tm2rdvn3AoUM4mJODo3Y7LuXUYORrfjb6lYg8Z8OGDeFDhgwZOnjw4MyrrroqddmyZWVxcXE2i8WCZcuWlV122WUZ6enpQ6+66qqq7OzsegBYtmzZd0888UT/xMTEYceOHQu66667jnQmhhdeeKHv1q1bw//2t7/FuE6v8tlnn7EfUhcTZ/7UygoiHwJ4QlXfMm5fCeBnqjqpQzsU6Q/g36qabNweB2dSlwZgvKqWi0gcgI9VtdUzx2VnZ2teXl5HwgAAnKorQUn5S/jqgRshNQMx+80Ob6p1L74IzJuHVVu24Hf9+2NTUhL6si8B+dLx40Bf4zRRbXwGeENBQwOuPnAAALArJcXH0fR8IpKvqtlNl+3YsaMkKyurU1/cROR5O3bsiMnKykpu7j53fq7fDmCxiJSJyH44+7nd1tFgVPUQgP0i4krYJsE5ivYtAHONZXMBeCrFOs1Vqav+Lhjh53lwR5s3A9HRWJeQgKyQECZ05Ht+1vxKRESd12afOlXdByBHRMKN2zVdsN//ArDKGPlaDOcpU0wA/mGMqC0F8OMu2E+rXH3qag4GI6JDdUc3bd6M+jFjsNtqxd1RUR7cEZGb/Cyp869oiIi6J7dO/Cci0wAMBRDqOmmhqv6/ju5UVbcDyG7mLk+mVmdxJXW2U86BEh5RXg4UFaHg5psBAOPZn478gb8ldX4WDxFRd9Rm86uIPA3n/K//BecP6lkAkjwcl1e4ml9ttcEIO2sweBfZvBkA8MGoUYgPCkKacTJHIp/ysyTKv6IhIuqe3OlTl6uqNwI4pqq/AXAxgAzPhuUdrkqdvc6CME+1im7eDO3dG2tTU3Fpr16sSJB/4OhXIqIex51P9nrjb62InAfACuf8r92eQ22AChyNZoT19dBONm/G8QsvxCmzmacyIf/hZz8u/CsaIqLuyZ2k7m1jrtb/AbANznlZ/+bJoLxF1Qq1BwEQz1Tqjh8HvvoKOy68EGEiGM1ZJMhf+FlSR0Ses3Hjxl6uc8MNGjQoc+XKlacnH1+zZs05ycnJwxITE4ctXrz4dO/ygoKC4OHDhw9OTEwcNm3atJT6+vqzPjT+/Oc/R994441uzQKwZ8+e4MzMzCGDBw/OTEtLG/rYY4917kSz1KxWkzoRMcE5H+txVV0LZ1+6waq6xCvReZhDbVC7s49bqCcqdZ99Bqji7awsXBwWhhA2eZG/YFJHFDCys7Prv/76690FBQW7169fv/fuu+9OslqtsNlsWLRoUeI///nPPXv27Nm1du3aqPz8/FAAuOeeewYsXLiwoqysbGdkZKTt8ccfj+lMDImJidb8/PyCgoKC3fn5+d88/vjj/UtKStjJvIu1mmWoqgPAk01uN6hql04C7EvqsEGtQTAFAcHhHtjB5s1QiwUfDx+OCWx6JX/iZ0mdf0VD5H8KCwuDU1JShs6ePTspLS1t6JgxY9JramrceutEREQ4LMYgvbq6OnH17f744497JyUlNWRmZjaGhobqzJkzq9asWdPH4XDg888/j3BN5zVv3ryjb7/9dp+W99C20NBQDQsLU1cMDoejM5ujFrhzSpMNInI1gNe1reknuhmHWuFotCAk0kPfcZs3oyIrC41hYRjfu7cHdkDUQX5WNWZSR93JrysrE/Y2NnbpL/X04ODah/v129/aOmVlZaGvvPJKcW5ubunUqVNTVq5c2XfBggVVDzzwQOzq1avPOodDTk5O9YoVK/YDwEcffdR7/vz5yQcPHgx++umnv7VYLNi/f39wfHz86WlABwwY0PjFF1+EV1RUBEVERNhdiWBycnJjRUVFq9ODLl++POrxxx8/6+RgycnJ9e+//34xABQVFVmmTp2avn///pAlS5Z8l5ycbHXr4JDb3EnqbgNwDwCbiNTD+fmrqnqORyPzAlUbHI1BnqnS1dYCW7fi83nzMCI0FFGcRYL8CSt1RN1OfHx8Q25ubh0AjBw5srakpCQEAJYuXVqxdOnSitYeO3HixFNFRUW7tm3bFjp37tyB11xzTZe2ut1xxx1Vd9xxR1Vr66SlpVn37Nmzu6SkxDJ9+vS066+//lhCQoKtK+MIdO7MKBHhjUB8waFW2BssnknqPv4YaGzEuxdfjIlseiV/42dJHVF30lZFzVOCg4NPt5aZzWatq6szAYA7lTqXUaNG1ffu3duel5cXlpCQ0HjgwIHTFbjvvvsuOD4+vjE2NtZWXV1ttlqtsFgsKCkpCY6NjW08c/tNuVOpa7LMOnjw4Lp//etfp5t4qWu0mdSJyCXNLVfVTV0fjnep2mCv91Cl7r33YAsLQ/7o0XiATa/kb/wsqfOvaIi6l7YqdQUFBcGpqamNFosFe/bsCS4uLg5NT09vjImJsZWUlIQWFBQEJycnW19//fWoVatWFZtMJuTk5FS/+OKLfefPn3/shRdeiL7iiiuOtxZDW5W6ffv2WWJjY23h4eFaWVlp3rp1a/h9993XanWR2s+d5tf7mlwPBXAhgHwAEz0SkRc51AZ7fS8EeyLn+vBDfJOTgwHh4UjiLBLkb/wtqfOzeIh6kg0bNoRfccUVcUFBQWoymXTZsmVlcXFxNgBYtmxZ2WWXXZZht9vxk5/85Eh2dna9sfy7a6+9NvXhhx+OHzp0aO1dd911pDMxfPXVV2G//OUvB4gIVBULFy48dOGFF9Z1xfOj/5D2jn0QkQQAf1LVqz0Tkvuys7M1Ly+vw48v+u5pHPy0Dw6+Ohuz3+zCwPbvBxIT8T+LFyPo5z/HoihPTVdB1AmuRMoPxj+VWq2Yut/ZSrQrJcXH0fR8IpKvqt+bf3vHjh0lWVlZnfriJiLP27FjR0xWVlZyc/d1ZAjcdwCGdCoiP6Fqh63OA82v69cDALaMHcv+dEREROQV7vSpewKA66e8CcAIOGeW6PacSZ0Zlq5ufn3zTVTFx+PEkCE4PySkizdO1POw8ZWIqPPc6VPXtH3TBuBVVd3ioXi8StUGW52payt1NTXQ9evxwZw5mBgeDhP7ChG1ie8SIqLOcyepWwOgXlXtACAiZhHppaq1ng3N81TtsNWaEdaVSd3770MaGvDB5MlYwFGvRERE5CXu9KnbACCsye0wAP/yTDjepWqHw9rFza8vv4wT/frhwEUXITs0tAs3TNRzsVJHRNR57iR1oapa47phXO8Rvf9V7V07o0R5OfTdd/H6jBmY0qcPm16J3MR3ChFR57mT1J0SkVGuGyJyAYAecW4ZhbNS12VJ3UsvQex2rP7xjzEt3BNnNCbqmZjUEXnWF198ETZixIjBaWlpQzMyMjJra2sFADZv3twrIyMjMzExcdhNN92U4HA4AAAVFRXm3Nzc9KSkpGG5ubnplZWVZ811+c4770RMmDAhzZ39FxUVWS666KKM1NTUoWlpaUOXLl16bpc+QQLgXlJ3N4DVIrJZRD4F8HcACz0bluepOgAoHI3mrjn5sCrwwgsoyMmBOSMDg4NbnfuYiIjIK6xWK2644YaBy5cvLy0qKtq1adOmQteUYwsWLEhavnx5aUlJyc7i4uLQNWvWnAMADz74YNz48eOrS0tLd44fP756yZIlZ00B1h4WiwXLli37bt++fbu2bt36zfPPP39ufn4++yh1sTaTOlXdCmAwgDsA3A5giKrmezowTzPGfXRdpW7zZmDvXrx09dWYFh7OM+QTtQffL0StKiwsDE5JSRk6e/bspLS0tKFjxoxJr6mpceuN8/rrr0cOGTKk7uKLL64DgP79+9uDgoJQWlpqqampMU2aNOmUyWTCddddd3TdunV9AeD999/vc9tttx0FgNtuu+3oe++917cz8SclJVnHjh1bCwB9+/Z1pKam1pWVlbH60cXcOU/dnQBWqepO43ZfEZmjqk95PDoPUhhJXWMXJXV//SsaIyKw/vLL8QabXonahSkddScHKt9MaGg83KV9y0OCz62N73fl/tbWKSsrC33llVeKc3NzS6dOnZqycuXKvgsWLKh64IEHYlevXh195vo5OTnVK1as2F9YWBgiIhg7dmx6VVVV0MyZM6sefvjhitLSUktcXJzVtX5SUlJjeXm5BQCOHj0alJSUZAWAhIQE69GjR1vNF95+++2I++67L+HM5WFhYY4vv/yyoOmywsLC4N27d/e69NJLa85cnzrHnVOa/FRVn3TdUNVjIvJTAN07qXNV6mxdMPr18GFg9Wp8NGsWMvr0QSLneiVqFyZ1RG2Lj49vyM3NrQOAkSNH1paUlIQAwNKlSyuWLl1a0dLjbDabbN26NTwvL++b8PBwx7hx4zJGjx5d27dvX7s7+zWZTG22Pk2fPr16+vTpu9va1okTJ0wzZ85M/d3vfrc/KirK4c7+yX3uJHVmERE1JokVETOAbl8ydTgaAQC2U8GwdPb31lNPAfX1+MsNN2A2q3RERD1aWxU1T3H1gwMAs9msdXV1JgBoq1I3YMCAxosuuqg6Li7OBgCTJ08+kZeX1+vWW2+tclXmAKC0tDTYVbmLjo62lZaWWpKSkqylpaWWqKgoW2uxuVOpa2hokGnTpqXOmjWrau7cucc7ehyoZe4kde8D+LuIPGPcvg3Ae54LyTvsjgYAgLUmBEGd6apZXw889RS+nTIFJampmMITDhO1Gyt1RB3XVqVuxowZJ//0pz/1r66uNoWGhjq2bNkS8bOf/awiKSnJGh4e7tiwYUPvCRMmnFq1alX0nXfeeRgApkyZcvyZZ56JfvTRRw8988wz0ZdddlmrSVhblTqHw4HZs2cnZWRk1D/00EMtxkqd405S90sA8+EcJAEAXwHo1CgYf+AwkjrbqeDOJXWvvgpUVuKvc+ciOzQU/YLcOaRE1BSTOiLP6devn33hwoUVI0eOHCIimDRp0onZs2efAIAnn3yy9JZbbhlYX18vEyZMODlr1qwTAPCb3/ymfMaMGalJSUkx8fHxjW+88ca+zsTw4Ycfhq9bty46PT29bvDgwZnGPg5ce+21Jzr/DMlFjFbV1lcSGQngJwB+DKAYwFpV/YuHY2tTdna25uXltb1iM07VlaCk/CV88pO5mPdBMkIjO7ARVWDECDTY7Rj15ptY0q8frj3nnA7FQ+R1rj4ybnwGeNphmw0TysoAALtSUnwcTc8nIvmqmt102Y4dO0qysrKO+ComInLPjh07YrKyspKbu6/FspKIZACYY1yOwHl+OqjqBA/E6HUKZ/9MdUjHK3Vffgl89RW2/O//wiSCyWx6JeoQVuqIiDqvtbbCAgCbAVyhqkUAICKLvBKVNxjVCXUIzB0d9vH3v0ODgrD8Bz/ARWFhiDKfdcJtIiIiIq9o7eTDMwGUA9goIs+JyCT0qB/UzqTOFCQdO++pKvCPf6B64kTsjojAdI56JeqwHvTBQkTkMy0mdaq6TlVnwzmbxEY4pws7V0SWi8gPvRWgp6iR1JktHfw62b0bKCnBlqlTYQEwiU2vRERE5EPuTBN2SlX/pqrTAQwA8CWcI2K7N3VV6tyZ/rYZn38OAFiTlYWcsDCEmzq4HSLitHpERF2gXZmIqh5T1WdVdZKnAvIW10AJU1AHv0w++wz26Gj8OyEBE1mlI+oUpnRERJ0XwOWl//Sp65DPP8fB7GxABGPDwrowLqLAw6SOyLO++OKLsBEjRgxOS0sbmpGRkVlbWysAsHnz5l4ZGRmZiYmJw2666aYEh8NZ8KioqDDn5uamJyUlDcvNzU2vrKw8ayTgO++8EzFhwoQ0d/ZfW1sr559//pBBgwZlpqWlDV20aNF5XfoECUAgJ3XaiT51NTVAQQHys7KQYrHgPM71SkREfspqteKGG24YuHz58tKioqJdmzZtKnRNObZgwYKk5cuXl5aUlOwsLi4OXbNmzTkA8OCDD8aNHz++urS0dOf48eOrlyxZ0qlJB0JDQ/XTTz8tLCws3L1r167dGzZsOGfDhg1s5upiAZvUdWqgRGEhAGBTcjIu7dXZiWOJiJU6otYVFhYGp6SkDJ09e3ZSWlra0DFjxqTX1NS49dZ5/fXXI4cMGVJ38cUX1wFA//797UFBQSgtLbXU1NSYJk2adMpkMuG66647um7dur4A8P777/e57bbbjgLAbbfddvS9997r25n4TSYTIiMjHQDQ2NgoNptN2Je26/lsTisRMQPIA3BAVa8QkYGtKXNvAAAUzklEQVQAXgMQDSAfwA2q2ui5CFxJXQfyWiOpKxo4EDeyPx0RUWCZNy8BO3d27S/6YcNq8cIL+1tbpaysLPSVV14pzs3NLZ06dWrKypUr+y5YsKDqgQceiF29enX0mevn5ORUr1ixYn9hYWGIiGDs2LHpVVVVQTNnzqx6+OGHK0pLSy1xcXFW1/pJSUmN5eXlFgA4evRoUFJSkhUAEhISrEePHm01X3j77bcj7rvvvoQzl4eFhTm+/PLLAgCw2WwYNmxYZllZWcjcuXMPT5w48ZR7B4fc5cuJSu8C8A0A17xavwfwR1V9TUSeBnALgOWe2rmqs9+AObgDvxQKCuAwmVCXkoLhISFdHBkREdHZ4uPjG3Jzc+sAYOTIkbUlJSUhALB06dKKpUuXVrT0OJvNJlu3bg3Py8v7Jjw83DFu3LiM0aNH1/bt29fuzn5NJlObI9SnT59ePX369N2trRMUFISCgoLdR44cMU+bNi1169atoaNHj653JwZyj0+SOhEZAGAagEcA3GPUYCfCOb8sALwE4CF4MKlDJ5pf7Xv2oDw+HuOiomBi+Zio0/guom6ljYqap7j6wQGA2WzWuro6EwC0VakbMGBA40UXXVQdFxdnA4DJkyefyMvL63XrrbdWuSpzAFBaWhrsqtxFR0fbSktLLUlJSdbS0lJLVFSUrbXY3KnUucTExNjHjRtX/fbbb0cyqetavqrU/QnALwBEGLejARxXVdc/zXcA4pt7oIjMBzAfABITEzscwOk+dR2o1FWXluJAfDwmsz8dUZdgUkfUcW1V6mbMmHHyT3/6U//q6mpTaGioY8uWLRE/+9nPKpKSkqzh4eGODRs29J4wYcKpVatWRd95552HAWDKlCnHn3nmmehHH3300DPPPBN92WWXHW8thrYqdQcPHgwKDg7WmJgYe01NjWzcuPGce++991DHnzU1x+tJnYhcAeCwquaLyPj2Pl5VnwXwLABkZ2drG6u3tiEAHWx+LSvD0ZwcTOapTIi6BDtME3lOv3797AsXLqwYOXLkEBHBpEmTTsyePfsEADz55JOlt9xyy8D6+nqZMGHCyVmzZp0AgN/85jflM2bMSE1KSoqJj49vfOONN/Z1Job9+/dbbrrppoF2ux2qKldeeWXVnDlzTnTF86P/ENWO50Ud2qHIbwHcAMAGIBTOPnVvAJgCoL+q2kTkYgAPqeqU1raVnZ2teXl5HYqj6mQeyo+8i7KnFuHy/z2n7QcYrFYrTKGh+OSuuzDxD3/o0L6J/IIrkfLyZ0Bzqh0O5JSUAAB2paT4NpgAICL5qprddNmOHTtKsrKyjvgqJiJyz44dO2KysrKSm7vP66c0UdX/VtUBqpoMYDaAj1T1Ojjnl73GWG0ugDc9GYfVdhIOm0Ac7Ru9ur24GGaHA+fxi4eoy7BOR0TUef50nrpfwjloogjOPnbPe3JnqlY4GoIQFHzWSbJbtX3PHgBAappbJ9EmIjcwqSMi6jxfntIEqvoxgI+N68UALvTevgF1CIJC2/MYxaFvvwUAWJKSPBQZEZFPOBwOh5hMJt+3xxNRsxwOhwDG5PXN8KdKnVepXQG0L6krslrR+8AB542Es0ZuExF1ZzsrKysjjS8NIvIzDodDKisrIwHsbGkdn1bqfMlh03ZX6rbU1iK2vByOyEiYwsM9FxxRgGEW4Xs2m+3WQ4cO/fXQoUPDEMA/+In8mAPATpvNdmtLKwRuUmdXQAFzOyaE+LyuDjdUVcHUv1PzGhPRGZjU+d4FF1xwGMCPfB0HEXVcwP4ac9iNPnVuJnWNqsivr0diVRUQG+vZ4IiIiIjaKYCTOgVU3K7U7WtsRJ0qoiorAVbqiLoUK3VERJ0XsEmd2hWq7lfqChobAQBhlZWs1BF1MSZ1RESdF7BJncNh9KkLdm/9woYGRDY2wnziBJM6oi7GacKIiDovYJM6NfrUudv8WtDYiAtOGNPUsfmViIiI/EzAJnWuPnXuNL+qKgobGzH8+HHnAlbqiIiIyM8EbFKnDmefOncqdccdDpx0OJBSVeVcwKSOqEux8ZWIqPMCOKmD233q9lutAIDzXM2v/fp5LjCiAMSkjoio8wI3qWvH6Nf9NhsAoN+xY84FMTEejIzIi9g/lIioxwjcGSUcCrg5UMJVqetz7BgQEgL07u3h6Ii8oKEB8JNRp/4RBRFR9xawSZ06AFW4Vak7aLMhxmxG0NGjziqdn3wREnVKsJvn8/EivrOIiDougJM6Y0YJN77XKmw2xAYFAUeOsOmVyANMAG6OjMQUVsGJiDosoJM6d0e/VthsSLBYmNQReYiI4N7oaF+HQUTUrQXuQAkHAId7AyUq7Hacy0odERER+bEATuoUqmizUldvnKMu1mwGKiuZ1BEREZFfCtykTp196kzm1tersNsBALEAcOwYkzoiIiLySwHbpy504G6EurHeYeMcdadPPMykjoiIiPxQwFbq3HXYqNSdy9kkiIiIyI8xqWvDcSOp6+ua95WVOiIiIvJDTOracMxuhwDozaSOiIiI/BiTujYcdzgQYTLBfOSIcwHPpUVERER+iEldG47b7ehrNgOHDzsXnHuubwMiIiIiakbAJnWNVZGo2DiizfWOOxzoYzI5k7o+ffxyvkwiIiKigE3qAIW4MXv4MbsdfVyVOlbpiIiIyE8FdlLXxomHAWfzax+TyTmbBJM6IiIi8lMBnNQ5JxFvywmHg5U6IiIi8nuBm9SJQkytJ3WNqqhTRaSrTx2TOiIiIvJTAZnUqSqC+9YgqFdDq+udME483AcAjhxhUkdERER+KyCTulN1+wAAkSN2tbreCYcDABB9/DigyqSOiIiI/FZAJnUOtbm13klXUuc6R11srKdCIiIiIuqUgEzq3HW6+fXQIeeC+HgfRkNERETUMiZ1rXBV6s6pqHAuOO88H0ZDRERE1DImda1w9anrVV7uXNC/vw+jISIiImqZ15M6EUkQkY0isltEdonIXcbyKBH5UET2Gn/7eioGu9W99U7a7RAAIQcPAjExQEiIp0IiIiIi6hRfVOpsAH6uqpkAcgDcKSKZAO4HsEFV0wFsMG57xM5X3VvvhMOBCJMJpvJy9qcjIiIiv+b1pE5Vy1V1m3G9GsA3AOIBXAngJWO1lwBc5akY6o66t95Jh8N54uF9+4CkJE+FQ0RERNRpPu1TJyLJAEYC+AJArKoanddwCECz5w8RkfkikicieZWVlR6N74TdjkhVoKgIGDTIo/siIiIi6gyfJXUiEg5gLYC7VfVk0/tUVQFoc49T1WdVNVtVs/v169ehfQdHuLfeSYcDKeXlQGMjkzoiIiLyaz5J6kTEAmdCt0pVXzcWV4hInHF/HIDDntp/VLp7651wODDw22+dNzIyPBUOERERUaf5YvSrAHgewDeq+ocmd70FYK5xfS6ANz0WhDZbBDzLSbsdicXFzhus1BEREZEfC/LBPscAuAHA1yKy3Vi2GMDvAPxDRG4BUArgx54KQB1urKOKEw4H4vbtAyIjgQ429RIRERF5g9eTOlX9FIC0cPckr8TgaGn3/1HtcMAOoF9xsbNKJ20/hoiIiMhXAnJGCXcqdUeNeV/7cuQrERERdQNM6lpwxG5HWG0twg4c4CAJIiIi8nuBmdS5MVDiiN2OpJIS5w1W6oiIiMjPBWZS52bza7Jr5CsrdUREROTnAjSpc1bqBJYW1/nOakWaq1KX7uaJ7YiIiIh8JCCTOtd56s7rc0OLq5RYrcgsKQESEoBevbwUGBEREVHHBGRSp3CObLUEtZysfWu1OmeTYH86IiIi6gYCMqlL+aGzU11QaPNPv9Jmw3dWK/rv28ekjoiIiLqFgEzqzBZnUmcymZu9f2t9PWKOHEFwdTUHSRAREVG3EJBJnav5VVp4+v9XV4fBPJ0JERERdSOBmdS5zmkizVfq/q++Hpfs3++8wUodERERdQMBndSJnP30v2loQKnVipFlZUBICJCY6O3wiIiIiNotIJM6kykIQeaIZptfXzt5EiEiyPjqK2DoUMDcfDWPiIiIyJ8E+ToAX/imNgEXZfw3tk/7FHazGWK3AzYbHHY7xlmtuEEVQZ98AvziF74OlYiIiMgtAZnU9V+8GEGNjRj1xhs4lJAAh9kMNS4Dg4IQHRwM/OAHwN13+zpUIiIiIrcEZFKXeuiQ88rkyei/fr1vgyEiIiLqAgHZpw633ur8u3Klb+MgIiIi6iIBWanDzJmn538lIiIi6gkCs1JHRERE1MMwqSMiIiLqAZjUEREREfUATOqIiIiIegAmdUREREQ9AJM6IiIioh6ASR0RERFRD8CkjoiIiKgHEO3GJ+EVkUoApR18eAyAI10YTldhXO3jr3EB/hsb42qfnhhXkqr268pgiMj3unVS1xkikqeq2b6O40yMq338NS7Af2NjXO3DuIiou2DzKxEREVEPwKSOiIiIqAcI5KTuWV8H0ALG1T7+Ghfgv7ExrvZhXETULQRsnzoiIiKiniSQK3VEREREPQaTOiIiIqIeICCTOhG5TEQKRaRIRO738r4TRGSjiOwWkV0icpex/CEROSAi243L1CaP+W8j1kIRmeLB2EpE5Gtj/3nGsigR+VBE9hp/+xrLRUT+bMT1lYiM8lBMg5ock+0iclJE7vbF8RKRF0TksIjsbLKs3cdHROYa6+8Vkbkeiut/RKTA2PcbItLHWJ4sInVNjtvTTR5zgfH6Fxmxiwfiavfr1tXv1xbi+nuTmEpEZLux3JvHq6XPBp//jxFRN6GqAXUBYAawD0AKgGAAOwBkenH/cQBGGdcjAOwBkAngIQD3NrN+phFjCICBRuxmD8VWAiDmjGWPAbjfuH4/gN8b16cCeA+AAMgB8IWXXrtDAJJ8cbwAXAJgFICdHT0+AKIAFBt/+xrX+3ogrh8CCDKu/75JXMlN1ztjO/9nxCpG7Jd7IK52vW6eeL82F9cZ9y8DsMQHx6ulzwaf/4/xwgsv3eMSiJW6CwEUqWqxqjYCeA3Ald7auaqWq+o243o1gG8AxLfykCsBvKaqDar6LYAiOJ+Dt1wJ4CXj+ksArmqyfKU6/RtAHxGJ83AskwDsU9XWZhHx2PFS1U0AqprZX3uOzxQAH6pqlaoeA/AhgMu6Oi5VXa+qNuPmvwEMaG0bRmznqOq/VVUBrGzyXLosrla09Lp1+fu1tbiMatuPAbza2jY8dLxa+mzw+f8YEXUPgZjUxQPY3+T2d2g9qfIYEUkGMBLAF8aihUYzyguuJhZ4N14FsF5E8kVkvrEsVlXLjeuHAMT6IC6X2fj+l62vjxfQ/uPji+M2D86KjstAEflSRD4RkXHGsngjFm/E1Z7XzdvHaxyAClXd22SZ14/XGZ8N3eF/jIj8QCAmdX5BRMIBrAVwt6qeBLAcQCqAEQDK4WwC8raxqjoKwOUA7hSRS5reaVQkfHIOHBEJBvAjAKuNRf5wvL7Hl8enJSLyKwA2AKuMReUAElV1JIB7APxNRM7xYkh+97qdYQ6+/8PB68ermc+G0/zxf4yI/EcgJnUHACQ0uT3AWOY1ImKB80N7laq+DgCqWqGqdlV1AHgO/2ky9Fq8qnrA+HsYwBtGDBWuZlXj72Fvx2W4HMA2Va0wYvT58TK09/h4LT4RuQnAFQCuM5IBGM2bR43r+XD2V8swYmjaROuRuDrwunnzeAUBmAng703i9erxau6zAX78P0ZE/iUQk7qtANJFZKBR/ZkN4C1v7dzos/M8gG9U9Q9NljftjzYDgGtk3lsAZotIiIgMBJAOZwftro6rt4hEuK7D2dF+p7F/1+i5uQDebBLXjcYIvBwAJ5o0EXnC9yoovj5eTbT3+HwA4Ici0tdoevyhsaxLichlAH4B4EeqWttkeT8RMRvXU+A8PsVGbCdFJMf4H72xyXPpyrja+7p58/36AwAFqnq6WdWbx6ulzwb46f8YEfkhX4/U8MUFzlFje+D81f0rL+97LJzNJ18B2G5cpgJ4GcDXxvK3AMQ1ecyvjFgL0ckRdq3ElQLnyMIdAHa5jguAaAAbAOwF8C8AUcZyAfCkEdfXALI9eMx6AzgKILLJMq8fLziTynIAVjj7Kd3SkeMDZx+3IuNys4fiKoKzX5Xrf+xpY92rjdd3O4BtAKY32U42nEnWPgB/gTHjTBfH1e7Xravfr83FZSxfAeD2M9b15vFq6bPB5/9jvPDCS/e4cJowIiIioh4gEJtfiYiIiHocJnVEREREPQCTOiIiIqIegEkdERERUQ/ApI6IiIioB2BSRwRARH4rIhNE5CoR+e8W1nlIRA6IyPYmlz5dGMMKEbmmq7ZHRESBhUkdkdNFcE58fymATa2s90dVHdHkctw74REREbWOSR0FNBH5HxH5CsBoAJ8DuBXAchFZ0o5t3CQib4rIxyKyV0QebHLfPSKy07jc3WT5jcak9jtE5OUmm7tERD4TkWJX1U5E4kRkk1EZ3NlkUnkiIqLTgnwdAJEvqep9IvIPOKd5ugfAx6o6ppWHLBKR643rx1R1gnH9QgDDANQC2Coi78I5O8DNcFYBBcAXIvIJgEYAvwaQq6pHRCSqyfbj4JxZYDCcMy6sAfATAB+o6iPGlFW9Ov3EiYiox2FSRwSMgnN6tMEAvmlj3T+q6v82s/xDNSZ+F5HX8Z8pn95Q1VNNlo8zlq9W1SMAoKpVTbazTp2T3e8WkVhj2VYALxiTva9T1e0deZJERNSzMamjgCUiI+Cc73MAgCNwVsBERLYDuFhV69qxuTPn2+vo/HsNTUMEAFXdJCKXAJgGYIWI/EFVV3Zw+0RE1EOxTx0FLFXdrqoj4JwsPhPARwCmGAMg2pPQAcBkEYkSkTAAVwHYAmAzgKtEpJeI9AYww1j2EYBZIhINAGc0v55FRJIAVKjqcwD+CmdlkYiI6HtYqaOAJiL94Owb5xCRwaq6u42HNO1TBzgTOAD4PwBr4az6vaKqecb2Vxj3AcBfVfVLY/kjAD4RETuALwHc1Mo+xwO4T0SsAGrg7P9HRET0PaLa0VYiIgKco18BZKvqQl/HQkREgYvNr0REREQ9ACt1RERERD0AK3VEREREPQCTOiIiIqIegEkdERERUQ/ApI6IiIioB2BSR0RERNQD/H8EdJxVIg8anAAAAABJRU5ErkJggg==)"
   ]
  },
  {
   "cell_type": "markdown",
   "metadata": {
    "id": "GVYb9WOsaalG"
   },
   "source": [
    "###Q4. \n",
    "**Discuss the benefits of using a cross entropy loss with respect to a quadratic loss.**"
   ]
  },
  {
   "cell_type": "markdown",
   "metadata": {
    "id": "S4CDkTVGpWql"
   },
   "source": [
    "This is can be explained by an anology to Binary classsification problem. \n",
    "The below figure taken from the book, \"Elements of Statistical Learning, Second Edition\" shows various Loss functions in case of Binary classification problems. Here, $yf$ is positive in case of a correct classification and negative in case of wrong classification. \n",
    "\n",
    "As you can see that Cross-Entropy(Binomial Deviance) is a monotonously decreasing function, and it penalizes misclassified data more heavily than correctly classified data.  \n",
    "\n",
    "Quadratic loss (Squared Error) is not monotonically decreasing and starts to increase after $yf>1$, thereby penalizing the correctly classified points. This turns into a non-convex optimization problem, which is undesirable.\n",
    "\n",
    "Hence it is beneficial to use Cross-Entropy.\n",
    "![Screenshot 2022-11-05 035114.png](data:image/png;base64,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)"
   ]
  },
  {
   "cell_type": "markdown",
   "metadata": {
    "id": "9olDFvNKahsO"
   },
   "source": [
    "### Q5. \n",
    "\n",
    "**Why using a one-hot encoding? Wouldn’t be simpler to use a single output? Hint: The answer has to do with the interplay between the loss and the sigmoidal activation functions.**"
   ]
  },
  {
   "cell_type": "markdown",
   "metadata": {
    "id": "YD1DBFa52aWr"
   },
   "source": [
    "In classification problems, involving categorical variables. It is beneficial to use One- hot Encoding if there is no natural relationship between the categories. \n",
    "\n",
    "If these categorical variables are instead treated with ordinal Encoding, then we are giving a wrong sense of notion to our model. This means if we define a Quadratic loss function (again this results in non-convex optimization) then the loss of misclassification of one class w.r.t another is not same anymore. That means we are inducing inherent biases into our data analysis. \n",
    "\n",
    "With Ordinal Encoding, we cannot use Sigmoid or Softmax activation function which implies that we cannot evaluate Cross-Entropy loss (a more robust loss function)\n",
    "\n",
    "To avoid this, we can use one-hot encoding, after which we can define Cross-Entropy loss (which has symmetrical misclassification loss about any classes)."
   ]
  },
  {
   "cell_type": "markdown",
   "metadata": {
    "id": "Yf2XLblnamsB"
   },
   "source": [
    "### Q6. \n",
    "\n",
    "**Test the sensibility of the gradient descent method with respect to the learning rate.**"
   ]
  },
  {
   "cell_type": "markdown",
   "metadata": {
    "id": "nUru7v_fqXX5"
   },
   "source": [
    "The learning rates $0.1$ and $0.14$ are found to be optimal with faster convergence as well as smooth curves with less variability. Learning rate $0.14$ behaves slightly better than $0.1$. Other combinations like $0.2$ has faster convergence but erratic curve and $0.04$ is converging too slowly. \n",
    "\n",
    "\n",
    "![LRFINAL.png](data:image/png;base64,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)"
   ]
  },
  {
   "cell_type": "markdown",
   "metadata": {
    "id": "5anJJ8KuanyX"
   },
   "source": [
    "### Q7. \n",
    "\n",
    "**With the network architecture that is described in Q3. of Exercise 1 (line 32–33 of the code) do you experience any problem related to the vanishing of the gradient? Why?**"
   ]
  },
  {
   "cell_type": "code",
   "execution_count": 14,
   "metadata": {
    "colab": {
     "base_uri": "https://localhost:8080/",
     "height": 0
    },
    "id": "3AFt1IRGu5in",
    "outputId": "360ec980-40ff-40bd-ddba-e0ec9202038a"
   },
   "outputs": [
    {
     "name": "stdout",
     "output_type": "stream",
     "text": [
      "k= 0    Risk =  0.2926501929759979\n",
      "k= 1    Risk =  0.2927183508872986\n",
      "k= 2    Risk =  0.29261791706085205\n",
      "k= 3    Risk =  0.29291239380836487\n",
      "k= 4    Risk =  0.29318758845329285\n",
      "k= 5    Risk =  0.2921077013015747\n",
      "k= 6    Risk =  0.29083219170570374\n",
      "k= 7    Risk =  0.28884947299957275\n",
      "k= 8    Risk =  0.28688308596611023\n",
      "k= 9    Risk =  0.2842438519001007\n",
      "k= 10    Risk =  0.28164106607437134\n",
      "k= 11    Risk =  0.27926185727119446\n",
      "k= 12    Risk =  0.27746737003326416\n",
      "k= 13    Risk =  0.2760606110095978\n",
      "k= 14    Risk =  0.2752714157104492\n",
      "k= 15    Risk =  0.27495288848876953\n",
      "k= 16    Risk =  0.2743118405342102\n",
      "k= 17    Risk =  0.2744567096233368\n",
      "k= 18    Risk =  0.2742465138435364\n",
      "k= 19    Risk =  0.2744676470756531\n",
      "k= 20    Risk =  0.2738681733608246\n",
      "k= 21    Risk =  0.27383166551589966\n",
      "k= 22    Risk =  0.27232125401496887\n",
      "k= 23    Risk =  0.2711130976676941\n",
      "k= 24    Risk =  0.26918521523475647\n",
      "k= 25    Risk =  0.2672545313835144\n",
      "k= 26    Risk =  0.26431146264076233\n",
      "k= 27    Risk =  0.26180848479270935\n",
      "k= 28    Risk =  0.25969094038009644\n",
      "k= 29    Risk =  0.2585197687149048\n",
      "k= 30    Risk =  0.25735798478126526\n",
      "k= 31    Risk =  0.25665342807769775\n",
      "k= 32    Risk =  0.2557223439216614\n",
      "k= 33    Risk =  0.25571462512016296\n",
      "k= 34    Risk =  0.2555045783519745\n",
      "k= 35    Risk =  0.25625938177108765\n",
      "k= 36    Risk =  0.2563525140285492\n",
      "k= 37    Risk =  0.2574616074562073\n",
      "k= 38    Risk =  0.25728359818458557\n",
      "k= 39    Risk =  0.2581658959388733\n",
      "k= 40    Risk =  0.2567943334579468\n",
      "k= 41    Risk =  0.2563040554523468\n",
      "k= 42    Risk =  0.2540383040904999\n",
      "k= 43    Risk =  0.25263962149620056\n",
      "k= 44    Risk =  0.2501818537712097\n",
      "k= 45    Risk =  0.24813112616539001\n",
      "k= 46    Risk =  0.24633224308490753\n",
      "k= 47    Risk =  0.24470557272434235\n",
      "k= 48    Risk =  0.24363331496715546\n",
      "k= 49    Risk =  0.24262571334838867\n",
      "k= 50    Risk =  0.2422822117805481\n",
      "k= 51    Risk =  0.2420254945755005\n",
      "k= 52    Risk =  0.2424962818622589\n",
      "k= 53    Risk =  0.24313460290431976\n",
      "k= 54    Risk =  0.2443612962961197\n",
      "k= 55    Risk =  0.2452876716852188\n",
      "k= 56    Risk =  0.24629680812358856\n",
      "k= 57    Risk =  0.24638640880584717\n",
      "k= 58    Risk =  0.24603036046028137\n",
      "k= 59    Risk =  0.24444851279258728\n",
      "k= 60    Risk =  0.24294348061084747\n",
      "k= 61    Risk =  0.2407308667898178\n",
      "k= 62    Risk =  0.2389145791530609\n",
      "k= 63    Risk =  0.23619934916496277\n",
      "k= 64    Risk =  0.2344420701265335\n",
      "k= 65    Risk =  0.2328115850687027\n",
      "k= 66    Risk =  0.23181286454200745\n",
      "k= 67    Risk =  0.23054656386375427\n",
      "k= 68    Risk =  0.22976073622703552\n",
      "k= 69    Risk =  0.22895175218582153\n",
      "k= 70    Risk =  0.2285642921924591\n",
      "k= 71    Risk =  0.22760607302188873\n",
      "k= 72    Risk =  0.22726745903491974\n",
      "k= 73    Risk =  0.22669316828250885\n",
      "k= 74    Risk =  0.22687220573425293\n",
      "k= 75    Risk =  0.22642987966537476\n",
      "k= 76    Risk =  0.22682012617588043\n",
      "k= 77    Risk =  0.2267308086156845\n",
      "k= 78    Risk =  0.22772616147994995\n",
      "k= 79    Risk =  0.22814303636550903\n",
      "k= 80    Risk =  0.22991083562374115\n",
      "k= 81    Risk =  0.22986464202404022\n",
      "k= 82    Risk =  0.23083741962909698\n",
      "k= 83    Risk =  0.230153888463974\n",
      "k= 84    Risk =  0.23020540177822113\n",
      "k= 85    Risk =  0.22781890630722046\n",
      "k= 86    Risk =  0.2261677086353302\n",
      "k= 87    Risk =  0.22314539551734924\n",
      "k= 88    Risk =  0.22016242146492004\n",
      "k= 89    Risk =  0.2175503522157669\n",
      "k= 90    Risk =  0.21550653874874115\n",
      "k= 91    Risk =  0.2141910195350647\n",
      "k= 92    Risk =  0.21327273547649384\n",
      "k= 93    Risk =  0.21279235184192657\n",
      "k= 94    Risk =  0.2125612199306488\n",
      "k= 95    Risk =  0.2126246690750122\n",
      "k= 96    Risk =  0.21312540769577026\n",
      "k= 97    Risk =  0.2145322561264038\n",
      "k= 98    Risk =  0.21559983491897583\n",
      "k= 99    Risk =  0.21861563622951508\n",
      "k= 100    Risk =  0.2197045087814331\n",
      "k= 101    Risk =  0.2223576307296753\n",
      "k= 102    Risk =  0.22173382341861725\n",
      "k= 103    Risk =  0.22191974520683289\n",
      "k= 104    Risk =  0.21947720646858215\n",
      "k= 105    Risk =  0.21879537403583527\n",
      "k= 106    Risk =  0.21628284454345703\n",
      "k= 107    Risk =  0.21413388848304749\n",
      "k= 108    Risk =  0.21093377470970154\n",
      "k= 109    Risk =  0.20894813537597656\n",
      "k= 110    Risk =  0.20756617188453674\n",
      "k= 111    Risk =  0.20660939812660217\n",
      "k= 112    Risk =  0.20529013872146606\n",
      "k= 113    Risk =  0.20474238693714142\n",
      "k= 114    Risk =  0.2045293152332306\n",
      "k= 115    Risk =  0.20505426824092865\n",
      "k= 116    Risk =  0.20497190952301025\n",
      "k= 117    Risk =  0.20607945322990417\n",
      "k= 118    Risk =  0.20693553984165192\n",
      "k= 119    Risk =  0.2097356766462326\n",
      "k= 120    Risk =  0.21056292951107025\n",
      "k= 121    Risk =  0.21298687160015106\n",
      "k= 122    Risk =  0.21197445690631866\n",
      "k= 123    Risk =  0.21341504156589508\n",
      "k= 124    Risk =  0.21101883053779602\n",
      "k= 125    Risk =  0.2100611925125122\n",
      "k= 126    Risk =  0.20667849481105804\n",
      "k= 127    Risk =  0.20461009442806244\n",
      "k= 128    Risk =  0.20136351883411407\n",
      "k= 129    Risk =  0.1992969661951065\n",
      "k= 130    Risk =  0.19717060029506683\n",
      "k= 131    Risk =  0.1957741528749466\n",
      "k= 132    Risk =  0.1951116919517517\n",
      "k= 133    Risk =  0.1946978121995926\n",
      "k= 134    Risk =  0.19440490007400513\n",
      "k= 135    Risk =  0.19440752267837524\n",
      "k= 136    Risk =  0.19476091861724854\n",
      "k= 137    Risk =  0.19568632543087006\n",
      "k= 138    Risk =  0.1965150684118271\n",
      "k= 139    Risk =  0.19827355444431305\n",
      "k= 140    Risk =  0.19923341274261475\n",
      "k= 141    Risk =  0.20116674900054932\n",
      "k= 142    Risk =  0.2009112536907196\n",
      "k= 143    Risk =  0.20290818810462952\n",
      "k= 144    Risk =  0.2012593001127243\n",
      "k= 145    Risk =  0.20198950171470642\n",
      "k= 146    Risk =  0.19940346479415894\n",
      "k= 147    Risk =  0.19900792837142944\n",
      "k= 148    Risk =  0.1957746148109436\n",
      "k= 149    Risk =  0.1936778575181961\n",
      "k= 150    Risk =  0.19116249680519104\n",
      "k= 151    Risk =  0.18990430235862732\n",
      "k= 152    Risk =  0.18894174695014954\n",
      "k= 153    Risk =  0.18827059864997864\n",
      "k= 154    Risk =  0.1878347545862198\n",
      "k= 155    Risk =  0.1877845972776413\n",
      "k= 156    Risk =  0.1882404386997223\n",
      "k= 157    Risk =  0.18901365995407104\n",
      "k= 158    Risk =  0.19073697924613953\n",
      "k= 159    Risk =  0.19297581911087036\n",
      "k= 160    Risk =  0.19540032744407654\n",
      "k= 161    Risk =  0.1971975564956665\n",
      "k= 162    Risk =  0.19725894927978516\n",
      "k= 163    Risk =  0.19753897190093994\n",
      "k= 164    Risk =  0.19630125164985657\n",
      "k= 165    Risk =  0.19446136057376862\n",
      "k= 166    Risk =  0.19239479303359985\n",
      "k= 167    Risk =  0.19055277109146118\n",
      "k= 168    Risk =  0.18853633105754852\n",
      "k= 169    Risk =  0.18706756830215454\n",
      "k= 170    Risk =  0.185482457280159\n",
      "k= 171    Risk =  0.18436165153980255\n",
      "k= 172    Risk =  0.1833115816116333\n",
      "k= 173    Risk =  0.18281735479831696\n",
      "k= 174    Risk =  0.1824057400226593\n",
      "k= 175    Risk =  0.1819288432598114\n",
      "k= 176    Risk =  0.18170152604579926\n",
      "k= 177    Risk =  0.18148984014987946\n",
      "k= 178    Risk =  0.18171274662017822\n",
      "k= 179    Risk =  0.18130789697170258\n",
      "k= 180    Risk =  0.1812773048877716\n",
      "k= 181    Risk =  0.18132972717285156\n",
      "k= 182    Risk =  0.18196803331375122\n",
      "k= 183    Risk =  0.1819193959236145\n",
      "k= 184    Risk =  0.18212340772151947\n",
      "k= 185    Risk =  0.18292094767093658\n",
      "k= 186    Risk =  0.18459704518318176\n",
      "k= 187    Risk =  0.18615353107452393\n",
      "k= 188    Risk =  0.18783020973205566\n",
      "k= 189    Risk =  0.18829751014709473\n",
      "k= 190    Risk =  0.18858569860458374\n",
      "k= 191    Risk =  0.1872432976961136\n",
      "k= 192    Risk =  0.18692493438720703\n",
      "k= 193    Risk =  0.18431705236434937\n",
      "k= 194    Risk =  0.1818595975637436\n",
      "k= 195    Risk =  0.17833536863327026\n",
      "k= 196    Risk =  0.17617174983024597\n",
      "k= 197    Risk =  0.17439508438110352\n",
      "k= 198    Risk =  0.17350739240646362\n",
      "k= 199    Risk =  0.17306512594223022\n"
     ]
    }
   ],
   "source": [
    "# CPU TO GPU\n",
    "\n",
    "x = x.to(dev)\n",
    "y = y.to(dev)\n",
    "x_test = x_test.to(dev)\n",
    "y_test = y_test.to(dev)\n",
    "net = net.to(dev)\n",
    "\n",
    "for k in range(200):\n",
    "    optimizer.zero_grad()\n",
    "\n",
    "    inputs = torch.flatten(x, start_dim=1, end_dim=2).to(dev)\n",
    "    outputs = net(inputs)\n",
    "    labels = y_one_hot.to(dev)\n",
    "\n",
    "    #Define the empirical risk\n",
    "    Risk = loss(outputs, labels)\n",
    "\n",
    "    #Make the backward step (1 line instruction)\n",
    "    Risk.backward()\n",
    "\n",
    "    #Upadte the parameters (1 line instruction)\n",
    "    optimizer.step()\n",
    "\n",
    "    with torch.no_grad():\n",
    "        print(\"k=\", k, \"   Risk = \", Risk.item())"
   ]
  },
  {
   "cell_type": "markdown",
   "metadata": {
    "id": "OcWXn37Cudfy"
   },
   "source": [
    "No, as you can see from the two hundered epoch of the validation curves from Ex$2$: $Q3$ we did not experience any Vanishing gradient because the training risk keeps on decreasing. This is because there is only one hidden layer and the distance between input and output layer is very small. So the gradients calculated during back propagation are not subjected to any residual factors that might result in Vanishing Gradient."
   ]
  },
  {
   "cell_type": "code",
   "execution_count": 10,
   "outputs": [],
   "source": [
    "# Now we define the optimizer and the loss function\n",
    "loss = torch.nn.CrossEntropyLoss()\n",
    "optimizer = optim.SGD(net.parameters(), lr=0.1)"
   ],
   "metadata": {
    "collapsed": false
   }
  }
 ],
 "metadata": {
  "accelerator": "GPU",
  "colab": {
   "collapsed_sections": [],
   "provenance": []
  },
  "gpuClass": "standard",
  "kernelspec": {
   "display_name": "Python 3 (ipykernel)",
   "language": "python",
   "name": "python3"
  },
  "language_info": {
   "codemirror_mode": {
    "name": "ipython",
    "version": 3
   },
   "file_extension": ".py",
   "mimetype": "text/x-python",
   "name": "python",
   "nbconvert_exporter": "python",
   "pygments_lexer": "ipython3",
   "version": "3.9.7"
  },
  "widgets": {
   "application/vnd.jupyter.widget-state+json": {
    "021f462c80b14a63b1d0a2c7b6879ce3": {
     "model_module": "@jupyter-widgets/controls",
     "model_module_version": "1.5.0",
     "model_name": "DescriptionStyleModel",
     "state": {
      "_model_module": "@jupyter-widgets/controls",
      "_model_module_version": "1.5.0",
      "_model_name": "DescriptionStyleModel",
      "_view_count": null,
      "_view_module": "@jupyter-widgets/base",
      "_view_module_version": "1.2.0",
      "_view_name": "StyleView",
      "description_width": ""
     }
    },
    "02f0d899c2e84bc8ad23c1e735956126": {
     "model_module": "@jupyter-widgets/controls",
     "model_module_version": "1.5.0",
     "model_name": "DescriptionStyleModel",
     "state": {
      "_model_module": "@jupyter-widgets/controls",
      "_model_module_version": "1.5.0",
      "_model_name": "DescriptionStyleModel",
      "_view_count": null,
      "_view_module": "@jupyter-widgets/base",
      "_view_module_version": "1.2.0",
      "_view_name": "StyleView",
      "description_width": ""
     }
    },
    "04bfe1b58b084421a2bb25e2e0964778": {
     "model_module": "@jupyter-widgets/base",
     "model_module_version": "1.2.0",
     "model_name": "LayoutModel",
     "state": {
      "_model_module": "@jupyter-widgets/base",
      "_model_module_version": "1.2.0",
      "_model_name": "LayoutModel",
      "_view_count": null,
      "_view_module": "@jupyter-widgets/base",
      "_view_module_version": "1.2.0",
      "_view_name": "LayoutView",
      "align_content": null,
      "align_items": null,
      "align_self": null,
      "border": null,
      "bottom": null,
      "display": null,
      "flex": null,
      "flex_flow": null,
      "grid_area": null,
      "grid_auto_columns": null,
      "grid_auto_flow": null,
      "grid_auto_rows": null,
      "grid_column": null,
      "grid_gap": null,
      "grid_row": null,
      "grid_template_areas": null,
      "grid_template_columns": null,
      "grid_template_rows": null,
      "height": null,
      "justify_content": null,
      "justify_items": null,
      "left": null,
      "margin": null,
      "max_height": null,
      "max_width": null,
      "min_height": null,
      "min_width": null,
      "object_fit": null,
      "object_position": null,
      "order": null,
      "overflow": null,
      "overflow_x": null,
      "overflow_y": null,
      "padding": null,
      "right": null,
      "top": null,
      "visibility": null,
      "width": null
     }
    },
    "19008a0481ab4f4cb33d67bcfe00cae4": {
     "model_module": "@jupyter-widgets/controls",
     "model_module_version": "1.5.0",
     "model_name": "FloatProgressModel",
     "state": {
      "_dom_classes": [],
      "_model_module": "@jupyter-widgets/controls",
      "_model_module_version": "1.5.0",
      "_model_name": "FloatProgressModel",
      "_view_count": null,
      "_view_module": "@jupyter-widgets/controls",
      "_view_module_version": "1.5.0",
      "_view_name": "ProgressView",
      "bar_style": "success",
      "description": "",
      "description_tooltip": null,
      "layout": "IPY_MODEL_c8fb663583d145a39e8c513c2d8c04e4",
      "max": 4542,
      "min": 0,
      "orientation": "horizontal",
      "style": "IPY_MODEL_bc072f09a16045a1a059343b24b9739c",
      "value": 4542
     }
    },
    "1d3c2abcdeb64bfe89c4222fedcaeb83": {
     "model_module": "@jupyter-widgets/controls",
     "model_module_version": "1.5.0",
     "model_name": "HTMLModel",
     "state": {
      "_dom_classes": [],
      "_model_module": "@jupyter-widgets/controls",
      "_model_module_version": "1.5.0",
      "_model_name": "HTMLModel",
      "_view_count": null,
      "_view_module": "@jupyter-widgets/controls",
      "_view_module_version": "1.5.0",
      "_view_name": "HTMLView",
      "description": "",
      "description_tooltip": null,
      "layout": "IPY_MODEL_04bfe1b58b084421a2bb25e2e0964778",
      "placeholder": "​",
      "style": "IPY_MODEL_3a4bd6f2721343eda8ab3bd3144fd191",
      "value": " 4542/4542 [00:00&lt;00:00, 63743.35it/s]"
     }
    },
    "244f6241b44742f182ad13b7c88c9616": {
     "model_module": "@jupyter-widgets/base",
     "model_module_version": "1.2.0",
     "model_name": "LayoutModel",
     "state": {
      "_model_module": "@jupyter-widgets/base",
      "_model_module_version": "1.2.0",
      "_model_name": "LayoutModel",
      "_view_count": null,
      "_view_module": "@jupyter-widgets/base",
      "_view_module_version": "1.2.0",
      "_view_name": "LayoutView",
      "align_content": null,
      "align_items": null,
      "align_self": null,
      "border": null,
      "bottom": null,
      "display": null,
      "flex": null,
      "flex_flow": null,
      "grid_area": null,
      "grid_auto_columns": null,
      "grid_auto_flow": null,
      "grid_auto_rows": null,
      "grid_column": null,
      "grid_gap": null,
      "grid_row": null,
      "grid_template_areas": null,
      "grid_template_columns": null,
      "grid_template_rows": null,
      "height": null,
      "justify_content": null,
      "justify_items": null,
      "left": null,
      "margin": null,
      "max_height": null,
      "max_width": null,
      "min_height": null,
      "min_width": null,
      "object_fit": null,
      "object_position": null,
      "order": null,
      "overflow": null,
      "overflow_x": null,
      "overflow_y": null,
      "padding": null,
      "right": null,
      "top": null,
      "visibility": null,
      "width": null
     }
    },
    "2c19a45cdc804bf7994ec77711851a74": {
     "model_module": "@jupyter-widgets/controls",
     "model_module_version": "1.5.0",
     "model_name": "ProgressStyleModel",
     "state": {
      "_model_module": "@jupyter-widgets/controls",
      "_model_module_version": "1.5.0",
      "_model_name": "ProgressStyleModel",
      "_view_count": null,
      "_view_module": "@jupyter-widgets/base",
      "_view_module_version": "1.2.0",
      "_view_name": "StyleView",
      "bar_color": null,
      "description_width": ""
     }
    },
    "35feebbcc29f483483de37291fd664ef": {
     "model_module": "@jupyter-widgets/controls",
     "model_module_version": "1.5.0",
     "model_name": "HTMLModel",
     "state": {
      "_dom_classes": [],
      "_model_module": "@jupyter-widgets/controls",
      "_model_module_version": "1.5.0",
      "_model_name": "HTMLModel",
      "_view_count": null,
      "_view_module": "@jupyter-widgets/controls",
      "_view_module_version": "1.5.0",
      "_view_name": "HTMLView",
      "description": "",
      "description_tooltip": null,
      "layout": "IPY_MODEL_94ea7c4216c04846bbbb895246109823",
      "placeholder": "​",
      "style": "IPY_MODEL_6c69a8b3059346e59f6b6253d79df299",
      "value": "100%"
     }
    },
    "3a4bd6f2721343eda8ab3bd3144fd191": {
     "model_module": "@jupyter-widgets/controls",
     "model_module_version": "1.5.0",
     "model_name": "DescriptionStyleModel",
     "state": {
      "_model_module": "@jupyter-widgets/controls",
      "_model_module_version": "1.5.0",
      "_model_name": "DescriptionStyleModel",
      "_view_count": null,
      "_view_module": "@jupyter-widgets/base",
      "_view_module_version": "1.2.0",
      "_view_name": "StyleView",
      "description_width": ""
     }
    },
    "3f05ace1e720444d858852aa44023637": {
     "model_module": "@jupyter-widgets/controls",
     "model_module_version": "1.5.0",
     "model_name": "HTMLModel",
     "state": {
      "_dom_classes": [],
      "_model_module": "@jupyter-widgets/controls",
      "_model_module_version": "1.5.0",
      "_model_name": "HTMLModel",
      "_view_count": null,
      "_view_module": "@jupyter-widgets/controls",
      "_view_module_version": "1.5.0",
      "_view_name": "HTMLView",
      "description": "",
      "description_tooltip": null,
      "layout": "IPY_MODEL_c09147cc8dfd4a728f36bd65de252187",
      "placeholder": "​",
      "style": "IPY_MODEL_e13c2b8c37504f35a532fd5bb5923022",
      "value": "100%"
     }
    },
    "454aafbb5c834a59b100dfd5d7b8ccbd": {
     "model_module": "@jupyter-widgets/base",
     "model_module_version": "1.2.0",
     "model_name": "LayoutModel",
     "state": {
      "_model_module": "@jupyter-widgets/base",
      "_model_module_version": "1.2.0",
      "_model_name": "LayoutModel",
      "_view_count": null,
      "_view_module": "@jupyter-widgets/base",
      "_view_module_version": "1.2.0",
      "_view_name": "LayoutView",
      "align_content": null,
      "align_items": null,
      "align_self": null,
      "border": null,
      "bottom": null,
      "display": null,
      "flex": null,
      "flex_flow": null,
      "grid_area": null,
      "grid_auto_columns": null,
      "grid_auto_flow": null,
      "grid_auto_rows": null,
      "grid_column": null,
      "grid_gap": null,
      "grid_row": null,
      "grid_template_areas": null,
      "grid_template_columns": null,
      "grid_template_rows": null,
      "height": null,
      "justify_content": null,
      "justify_items": null,
      "left": null,
      "margin": null,
      "max_height": null,
      "max_width": null,
      "min_height": null,
      "min_width": null,
      "object_fit": null,
      "object_position": null,
      "order": null,
      "overflow": null,
      "overflow_x": null,
      "overflow_y": null,
      "padding": null,
      "right": null,
      "top": null,
      "visibility": null,
      "width": null
     }
    },
    "4ea7880a49d9418fb38afe9f4b10f905": {
     "model_module": "@jupyter-widgets/base",
     "model_module_version": "1.2.0",
     "model_name": "LayoutModel",
     "state": {
      "_model_module": "@jupyter-widgets/base",
      "_model_module_version": "1.2.0",
      "_model_name": "LayoutModel",
      "_view_count": null,
      "_view_module": "@jupyter-widgets/base",
      "_view_module_version": "1.2.0",
      "_view_name": "LayoutView",
      "align_content": null,
      "align_items": null,
      "align_self": null,
      "border": null,
      "bottom": null,
      "display": null,
      "flex": null,
      "flex_flow": null,
      "grid_area": null,
      "grid_auto_columns": null,
      "grid_auto_flow": null,
      "grid_auto_rows": null,
      "grid_column": null,
      "grid_gap": null,
      "grid_row": null,
      "grid_template_areas": null,
      "grid_template_columns": null,
      "grid_template_rows": null,
      "height": null,
      "justify_content": null,
      "justify_items": null,
      "left": null,
      "margin": null,
      "max_height": null,
      "max_width": null,
      "min_height": null,
      "min_width": null,
      "object_fit": null,
      "object_position": null,
      "order": null,
      "overflow": null,
      "overflow_x": null,
      "overflow_y": null,
      "padding": null,
      "right": null,
      "top": null,
      "visibility": null,
      "width": null
     }
    },
    "623f329e6c104829b8c7c8ebe695bcd7": {
     "model_module": "@jupyter-widgets/controls",
     "model_module_version": "1.5.0",
     "model_name": "FloatProgressModel",
     "state": {
      "_dom_classes": [],
      "_model_module": "@jupyter-widgets/controls",
      "_model_module_version": "1.5.0",
      "_model_name": "FloatProgressModel",
      "_view_count": null,
      "_view_module": "@jupyter-widgets/controls",
      "_view_module_version": "1.5.0",
      "_view_name": "ProgressView",
      "bar_style": "success",
      "description": "",
      "description_tooltip": null,
      "layout": "IPY_MODEL_8d6d0dbaea49482ba7aa39b9cd4661e1",
      "max": 9912422,
      "min": 0,
      "orientation": "horizontal",
      "style": "IPY_MODEL_2c19a45cdc804bf7994ec77711851a74",
      "value": 9912422
     }
    },
    "641fa20c64fa4cbbb44b8397b0ad439d": {
     "model_module": "@jupyter-widgets/controls",
     "model_module_version": "1.5.0",
     "model_name": "DescriptionStyleModel",
     "state": {
      "_model_module": "@jupyter-widgets/controls",
      "_model_module_version": "1.5.0",
      "_model_name": "DescriptionStyleModel",
      "_view_count": null,
      "_view_module": "@jupyter-widgets/base",
      "_view_module_version": "1.2.0",
      "_view_name": "StyleView",
      "description_width": ""
     }
    },
    "6c69a8b3059346e59f6b6253d79df299": {
     "model_module": "@jupyter-widgets/controls",
     "model_module_version": "1.5.0",
     "model_name": "DescriptionStyleModel",
     "state": {
      "_model_module": "@jupyter-widgets/controls",
      "_model_module_version": "1.5.0",
      "_model_name": "DescriptionStyleModel",
      "_view_count": null,
      "_view_module": "@jupyter-widgets/base",
      "_view_module_version": "1.2.0",
      "_view_name": "StyleView",
      "description_width": ""
     }
    },
    "6c7b07194dba49e3aa15b48150f23d04": {
     "model_module": "@jupyter-widgets/controls",
     "model_module_version": "1.5.0",
     "model_name": "ProgressStyleModel",
     "state": {
      "_model_module": "@jupyter-widgets/controls",
      "_model_module_version": "1.5.0",
      "_model_name": "ProgressStyleModel",
      "_view_count": null,
      "_view_module": "@jupyter-widgets/base",
      "_view_module_version": "1.2.0",
      "_view_name": "StyleView",
      "bar_color": null,
      "description_width": ""
     }
    },
    "705d3363334d44e389583dba7b7f2f8f": {
     "model_module": "@jupyter-widgets/base",
     "model_module_version": "1.2.0",
     "model_name": "LayoutModel",
     "state": {
      "_model_module": "@jupyter-widgets/base",
      "_model_module_version": "1.2.0",
      "_model_name": "LayoutModel",
      "_view_count": null,
      "_view_module": "@jupyter-widgets/base",
      "_view_module_version": "1.2.0",
      "_view_name": "LayoutView",
      "align_content": null,
      "align_items": null,
      "align_self": null,
      "border": null,
      "bottom": null,
      "display": null,
      "flex": null,
      "flex_flow": null,
      "grid_area": null,
      "grid_auto_columns": null,
      "grid_auto_flow": null,
      "grid_auto_rows": null,
      "grid_column": null,
      "grid_gap": null,
      "grid_row": null,
      "grid_template_areas": null,
      "grid_template_columns": null,
      "grid_template_rows": null,
      "height": null,
      "justify_content": null,
      "justify_items": null,
      "left": null,
      "margin": null,
      "max_height": null,
      "max_width": null,
      "min_height": null,
      "min_width": null,
      "object_fit": null,
      "object_position": null,
      "order": null,
      "overflow": null,
      "overflow_x": null,
      "overflow_y": null,
      "padding": null,
      "right": null,
      "top": null,
      "visibility": null,
      "width": null
     }
    },
    "71b55c1b1dc1454db2526e54b7793f31": {
     "model_module": "@jupyter-widgets/controls",
     "model_module_version": "1.5.0",
     "model_name": "ProgressStyleModel",
     "state": {
      "_model_module": "@jupyter-widgets/controls",
      "_model_module_version": "1.5.0",
      "_model_name": "ProgressStyleModel",
      "_view_count": null,
      "_view_module": "@jupyter-widgets/base",
      "_view_module_version": "1.2.0",
      "_view_name": "StyleView",
      "bar_color": null,
      "description_width": ""
     }
    },
    "7d1113cd205448a5b5b1f99fc4f01b87": {
     "model_module": "@jupyter-widgets/controls",
     "model_module_version": "1.5.0",
     "model_name": "HBoxModel",
     "state": {
      "_dom_classes": [],
      "_model_module": "@jupyter-widgets/controls",
      "_model_module_version": "1.5.0",
      "_model_name": "HBoxModel",
      "_view_count": null,
      "_view_module": "@jupyter-widgets/controls",
      "_view_module_version": "1.5.0",
      "_view_name": "HBoxView",
      "box_style": "",
      "children": [
       "IPY_MODEL_3f05ace1e720444d858852aa44023637",
       "IPY_MODEL_7ef009a337304561ada4b2851cad0258",
       "IPY_MODEL_8f62241bac7f41a2a763448cf342407e"
      ],
      "layout": "IPY_MODEL_f7623a5153354612aae75348ab85fadb"
     }
    },
    "7ef009a337304561ada4b2851cad0258": {
     "model_module": "@jupyter-widgets/controls",
     "model_module_version": "1.5.0",
     "model_name": "FloatProgressModel",
     "state": {
      "_dom_classes": [],
      "_model_module": "@jupyter-widgets/controls",
      "_model_module_version": "1.5.0",
      "_model_name": "FloatProgressModel",
      "_view_count": null,
      "_view_module": "@jupyter-widgets/controls",
      "_view_module_version": "1.5.0",
      "_view_name": "ProgressView",
      "bar_style": "success",
      "description": "",
      "description_tooltip": null,
      "layout": "IPY_MODEL_4ea7880a49d9418fb38afe9f4b10f905",
      "max": 1648877,
      "min": 0,
      "orientation": "horizontal",
      "style": "IPY_MODEL_71b55c1b1dc1454db2526e54b7793f31",
      "value": 1648877
     }
    },
    "822c2e1b41ca47b4ba22f329b0b39936": {
     "model_module": "@jupyter-widgets/base",
     "model_module_version": "1.2.0",
     "model_name": "LayoutModel",
     "state": {
      "_model_module": "@jupyter-widgets/base",
      "_model_module_version": "1.2.0",
      "_model_name": "LayoutModel",
      "_view_count": null,
      "_view_module": "@jupyter-widgets/base",
      "_view_module_version": "1.2.0",
      "_view_name": "LayoutView",
      "align_content": null,
      "align_items": null,
      "align_self": null,
      "border": null,
      "bottom": null,
      "display": null,
      "flex": null,
      "flex_flow": null,
      "grid_area": null,
      "grid_auto_columns": null,
      "grid_auto_flow": null,
      "grid_auto_rows": null,
      "grid_column": null,
      "grid_gap": null,
      "grid_row": null,
      "grid_template_areas": null,
      "grid_template_columns": null,
      "grid_template_rows": null,
      "height": null,
      "justify_content": null,
      "justify_items": null,
      "left": null,
      "margin": null,
      "max_height": null,
      "max_width": null,
      "min_height": null,
      "min_width": null,
      "object_fit": null,
      "object_position": null,
      "order": null,
      "overflow": null,
      "overflow_x": null,
      "overflow_y": null,
      "padding": null,
      "right": null,
      "top": null,
      "visibility": null,
      "width": null
     }
    },
    "8554a72282144281ae33378e12238cdd": {
     "model_module": "@jupyter-widgets/controls",
     "model_module_version": "1.5.0",
     "model_name": "HBoxModel",
     "state": {
      "_dom_classes": [],
      "_model_module": "@jupyter-widgets/controls",
      "_model_module_version": "1.5.0",
      "_model_name": "HBoxModel",
      "_view_count": null,
      "_view_module": "@jupyter-widgets/controls",
      "_view_module_version": "1.5.0",
      "_view_name": "HBoxView",
      "box_style": "",
      "children": [
       "IPY_MODEL_d0bf8efb2f9241b5a21c0e035d813909",
       "IPY_MODEL_623f329e6c104829b8c7c8ebe695bcd7",
       "IPY_MODEL_f9668d9ed964448e96168bb2be585497"
      ],
      "layout": "IPY_MODEL_454aafbb5c834a59b100dfd5d7b8ccbd"
     }
    },
    "8d3a640149524f998ff86ba9557148c6": {
     "model_module": "@jupyter-widgets/base",
     "model_module_version": "1.2.0",
     "model_name": "LayoutModel",
     "state": {
      "_model_module": "@jupyter-widgets/base",
      "_model_module_version": "1.2.0",
      "_model_name": "LayoutModel",
      "_view_count": null,
      "_view_module": "@jupyter-widgets/base",
      "_view_module_version": "1.2.0",
      "_view_name": "LayoutView",
      "align_content": null,
      "align_items": null,
      "align_self": null,
      "border": null,
      "bottom": null,
      "display": null,
      "flex": null,
      "flex_flow": null,
      "grid_area": null,
      "grid_auto_columns": null,
      "grid_auto_flow": null,
      "grid_auto_rows": null,
      "grid_column": null,
      "grid_gap": null,
      "grid_row": null,
      "grid_template_areas": null,
      "grid_template_columns": null,
      "grid_template_rows": null,
      "height": null,
      "justify_content": null,
      "justify_items": null,
      "left": null,
      "margin": null,
      "max_height": null,
      "max_width": null,
      "min_height": null,
      "min_width": null,
      "object_fit": null,
      "object_position": null,
      "order": null,
      "overflow": null,
      "overflow_x": null,
      "overflow_y": null,
      "padding": null,
      "right": null,
      "top": null,
      "visibility": null,
      "width": null
     }
    },
    "8d6d0dbaea49482ba7aa39b9cd4661e1": {
     "model_module": "@jupyter-widgets/base",
     "model_module_version": "1.2.0",
     "model_name": "LayoutModel",
     "state": {
      "_model_module": "@jupyter-widgets/base",
      "_model_module_version": "1.2.0",
      "_model_name": "LayoutModel",
      "_view_count": null,
      "_view_module": "@jupyter-widgets/base",
      "_view_module_version": "1.2.0",
      "_view_name": "LayoutView",
      "align_content": null,
      "align_items": null,
      "align_self": null,
      "border": null,
      "bottom": null,
      "display": null,
      "flex": null,
      "flex_flow": null,
      "grid_area": null,
      "grid_auto_columns": null,
      "grid_auto_flow": null,
      "grid_auto_rows": null,
      "grid_column": null,
      "grid_gap": null,
      "grid_row": null,
      "grid_template_areas": null,
      "grid_template_columns": null,
      "grid_template_rows": null,
      "height": null,
      "justify_content": null,
      "justify_items": null,
      "left": null,
      "margin": null,
      "max_height": null,
      "max_width": null,
      "min_height": null,
      "min_width": null,
      "object_fit": null,
      "object_position": null,
      "order": null,
      "overflow": null,
      "overflow_x": null,
      "overflow_y": null,
      "padding": null,
      "right": null,
      "top": null,
      "visibility": null,
      "width": null
     }
    },
    "8f62241bac7f41a2a763448cf342407e": {
     "model_module": "@jupyter-widgets/controls",
     "model_module_version": "1.5.0",
     "model_name": "HTMLModel",
     "state": {
      "_dom_classes": [],
      "_model_module": "@jupyter-widgets/controls",
      "_model_module_version": "1.5.0",
      "_model_name": "HTMLModel",
      "_view_count": null,
      "_view_module": "@jupyter-widgets/controls",
      "_view_module_version": "1.5.0",
      "_view_name": "HTMLView",
      "description": "",
      "description_tooltip": null,
      "layout": "IPY_MODEL_f9624faae6ca4458ac53c02849ee1418",
      "placeholder": "​",
      "style": "IPY_MODEL_021f462c80b14a63b1d0a2c7b6879ce3",
      "value": " 1648877/1648877 [00:00&lt;00:00, 7528622.14it/s]"
     }
    },
    "94ea7c4216c04846bbbb895246109823": {
     "model_module": "@jupyter-widgets/base",
     "model_module_version": "1.2.0",
     "model_name": "LayoutModel",
     "state": {
      "_model_module": "@jupyter-widgets/base",
      "_model_module_version": "1.2.0",
      "_model_name": "LayoutModel",
      "_view_count": null,
      "_view_module": "@jupyter-widgets/base",
      "_view_module_version": "1.2.0",
      "_view_name": "LayoutView",
      "align_content": null,
      "align_items": null,
      "align_self": null,
      "border": null,
      "bottom": null,
      "display": null,
      "flex": null,
      "flex_flow": null,
      "grid_area": null,
      "grid_auto_columns": null,
      "grid_auto_flow": null,
      "grid_auto_rows": null,
      "grid_column": null,
      "grid_gap": null,
      "grid_row": null,
      "grid_template_areas": null,
      "grid_template_columns": null,
      "grid_template_rows": null,
      "height": null,
      "justify_content": null,
      "justify_items": null,
      "left": null,
      "margin": null,
      "max_height": null,
      "max_width": null,
      "min_height": null,
      "min_width": null,
      "object_fit": null,
      "object_position": null,
      "order": null,
      "overflow": null,
      "overflow_x": null,
      "overflow_y": null,
      "padding": null,
      "right": null,
      "top": null,
      "visibility": null,
      "width": null
     }
    },
    "959f904eb38f44538252ddc0ac21f3be": {
     "model_module": "@jupyter-widgets/base",
     "model_module_version": "1.2.0",
     "model_name": "LayoutModel",
     "state": {
      "_model_module": "@jupyter-widgets/base",
      "_model_module_version": "1.2.0",
      "_model_name": "LayoutModel",
      "_view_count": null,
      "_view_module": "@jupyter-widgets/base",
      "_view_module_version": "1.2.0",
      "_view_name": "LayoutView",
      "align_content": null,
      "align_items": null,
      "align_self": null,
      "border": null,
      "bottom": null,
      "display": null,
      "flex": null,
      "flex_flow": null,
      "grid_area": null,
      "grid_auto_columns": null,
      "grid_auto_flow": null,
      "grid_auto_rows": null,
      "grid_column": null,
      "grid_gap": null,
      "grid_row": null,
      "grid_template_areas": null,
      "grid_template_columns": null,
      "grid_template_rows": null,
      "height": null,
      "justify_content": null,
      "justify_items": null,
      "left": null,
      "margin": null,
      "max_height": null,
      "max_width": null,
      "min_height": null,
      "min_width": null,
      "object_fit": null,
      "object_position": null,
      "order": null,
      "overflow": null,
      "overflow_x": null,
      "overflow_y": null,
      "padding": null,
      "right": null,
      "top": null,
      "visibility": null,
      "width": null
     }
    },
    "9a5727a56e2441329855d950c2eae6a7": {
     "model_module": "@jupyter-widgets/base",
     "model_module_version": "1.2.0",
     "model_name": "LayoutModel",
     "state": {
      "_model_module": "@jupyter-widgets/base",
      "_model_module_version": "1.2.0",
      "_model_name": "LayoutModel",
      "_view_count": null,
      "_view_module": "@jupyter-widgets/base",
      "_view_module_version": "1.2.0",
      "_view_name": "LayoutView",
      "align_content": null,
      "align_items": null,
      "align_self": null,
      "border": null,
      "bottom": null,
      "display": null,
      "flex": null,
      "flex_flow": null,
      "grid_area": null,
      "grid_auto_columns": null,
      "grid_auto_flow": null,
      "grid_auto_rows": null,
      "grid_column": null,
      "grid_gap": null,
      "grid_row": null,
      "grid_template_areas": null,
      "grid_template_columns": null,
      "grid_template_rows": null,
      "height": null,
      "justify_content": null,
      "justify_items": null,
      "left": null,
      "margin": null,
      "max_height": null,
      "max_width": null,
      "min_height": null,
      "min_width": null,
      "object_fit": null,
      "object_position": null,
      "order": null,
      "overflow": null,
      "overflow_x": null,
      "overflow_y": null,
      "padding": null,
      "right": null,
      "top": null,
      "visibility": null,
      "width": null
     }
    },
    "ac035f0b823e48719d6fa3a48b1a602d": {
     "model_module": "@jupyter-widgets/controls",
     "model_module_version": "1.5.0",
     "model_name": "DescriptionStyleModel",
     "state": {
      "_model_module": "@jupyter-widgets/controls",
      "_model_module_version": "1.5.0",
      "_model_name": "DescriptionStyleModel",
      "_view_count": null,
      "_view_module": "@jupyter-widgets/base",
      "_view_module_version": "1.2.0",
      "_view_name": "StyleView",
      "description_width": ""
     }
    },
    "afed7326b7684f1e8f5896ff27d1fa8b": {
     "model_module": "@jupyter-widgets/controls",
     "model_module_version": "1.5.0",
     "model_name": "DescriptionStyleModel",
     "state": {
      "_model_module": "@jupyter-widgets/controls",
      "_model_module_version": "1.5.0",
      "_model_name": "DescriptionStyleModel",
      "_view_count": null,
      "_view_module": "@jupyter-widgets/base",
      "_view_module_version": "1.2.0",
      "_view_name": "StyleView",
      "description_width": ""
     }
    },
    "bc072f09a16045a1a059343b24b9739c": {
     "model_module": "@jupyter-widgets/controls",
     "model_module_version": "1.5.0",
     "model_name": "ProgressStyleModel",
     "state": {
      "_model_module": "@jupyter-widgets/controls",
      "_model_module_version": "1.5.0",
      "_model_name": "ProgressStyleModel",
      "_view_count": null,
      "_view_module": "@jupyter-widgets/base",
      "_view_module_version": "1.2.0",
      "_view_name": "StyleView",
      "bar_color": null,
      "description_width": ""
     }
    },
    "c09147cc8dfd4a728f36bd65de252187": {
     "model_module": "@jupyter-widgets/base",
     "model_module_version": "1.2.0",
     "model_name": "LayoutModel",
     "state": {
      "_model_module": "@jupyter-widgets/base",
      "_model_module_version": "1.2.0",
      "_model_name": "LayoutModel",
      "_view_count": null,
      "_view_module": "@jupyter-widgets/base",
      "_view_module_version": "1.2.0",
      "_view_name": "LayoutView",
      "align_content": null,
      "align_items": null,
      "align_self": null,
      "border": null,
      "bottom": null,
      "display": null,
      "flex": null,
      "flex_flow": null,
      "grid_area": null,
      "grid_auto_columns": null,
      "grid_auto_flow": null,
      "grid_auto_rows": null,
      "grid_column": null,
      "grid_gap": null,
      "grid_row": null,
      "grid_template_areas": null,
      "grid_template_columns": null,
      "grid_template_rows": null,
      "height": null,
      "justify_content": null,
      "justify_items": null,
      "left": null,
      "margin": null,
      "max_height": null,
      "max_width": null,
      "min_height": null,
      "min_width": null,
      "object_fit": null,
      "object_position": null,
      "order": null,
      "overflow": null,
      "overflow_x": null,
      "overflow_y": null,
      "padding": null,
      "right": null,
      "top": null,
      "visibility": null,
      "width": null
     }
    },
    "c1d20c0d941d458f9620473ba7bc7c8e": {
     "model_module": "@jupyter-widgets/controls",
     "model_module_version": "1.5.0",
     "model_name": "HBoxModel",
     "state": {
      "_dom_classes": [],
      "_model_module": "@jupyter-widgets/controls",
      "_model_module_version": "1.5.0",
      "_model_name": "HBoxModel",
      "_view_count": null,
      "_view_module": "@jupyter-widgets/controls",
      "_view_module_version": "1.5.0",
      "_view_name": "HBoxView",
      "box_style": "",
      "children": [
       "IPY_MODEL_e794a7dee6ff4162b8386bfefa4500d0",
       "IPY_MODEL_19008a0481ab4f4cb33d67bcfe00cae4",
       "IPY_MODEL_1d3c2abcdeb64bfe89c4222fedcaeb83"
      ],
      "layout": "IPY_MODEL_705d3363334d44e389583dba7b7f2f8f"
     }
    },
    "c8fb663583d145a39e8c513c2d8c04e4": {
     "model_module": "@jupyter-widgets/base",
     "model_module_version": "1.2.0",
     "model_name": "LayoutModel",
     "state": {
      "_model_module": "@jupyter-widgets/base",
      "_model_module_version": "1.2.0",
      "_model_name": "LayoutModel",
      "_view_count": null,
      "_view_module": "@jupyter-widgets/base",
      "_view_module_version": "1.2.0",
      "_view_name": "LayoutView",
      "align_content": null,
      "align_items": null,
      "align_self": null,
      "border": null,
      "bottom": null,
      "display": null,
      "flex": null,
      "flex_flow": null,
      "grid_area": null,
      "grid_auto_columns": null,
      "grid_auto_flow": null,
      "grid_auto_rows": null,
      "grid_column": null,
      "grid_gap": null,
      "grid_row": null,
      "grid_template_areas": null,
      "grid_template_columns": null,
      "grid_template_rows": null,
      "height": null,
      "justify_content": null,
      "justify_items": null,
      "left": null,
      "margin": null,
      "max_height": null,
      "max_width": null,
      "min_height": null,
      "min_width": null,
      "object_fit": null,
      "object_position": null,
      "order": null,
      "overflow": null,
      "overflow_x": null,
      "overflow_y": null,
      "padding": null,
      "right": null,
      "top": null,
      "visibility": null,
      "width": null
     }
    },
    "d0bf8efb2f9241b5a21c0e035d813909": {
     "model_module": "@jupyter-widgets/controls",
     "model_module_version": "1.5.0",
     "model_name": "HTMLModel",
     "state": {
      "_dom_classes": [],
      "_model_module": "@jupyter-widgets/controls",
      "_model_module_version": "1.5.0",
      "_model_name": "HTMLModel",
      "_view_count": null,
      "_view_module": "@jupyter-widgets/controls",
      "_view_module_version": "1.5.0",
      "_view_name": "HTMLView",
      "description": "",
      "description_tooltip": null,
      "layout": "IPY_MODEL_959f904eb38f44538252ddc0ac21f3be",
      "placeholder": "​",
      "style": "IPY_MODEL_afed7326b7684f1e8f5896ff27d1fa8b",
      "value": "100%"
     }
    },
    "d5f924c7f2ce43129af43043127f7c7c": {
     "model_module": "@jupyter-widgets/controls",
     "model_module_version": "1.5.0",
     "model_name": "FloatProgressModel",
     "state": {
      "_dom_classes": [],
      "_model_module": "@jupyter-widgets/controls",
      "_model_module_version": "1.5.0",
      "_model_name": "FloatProgressModel",
      "_view_count": null,
      "_view_module": "@jupyter-widgets/controls",
      "_view_module_version": "1.5.0",
      "_view_name": "ProgressView",
      "bar_style": "success",
      "description": "",
      "description_tooltip": null,
      "layout": "IPY_MODEL_8d3a640149524f998ff86ba9557148c6",
      "max": 28881,
      "min": 0,
      "orientation": "horizontal",
      "style": "IPY_MODEL_6c7b07194dba49e3aa15b48150f23d04",
      "value": 28881
     }
    },
    "d6113260e9f4460bbce2d93058b9f4b0": {
     "model_module": "@jupyter-widgets/base",
     "model_module_version": "1.2.0",
     "model_name": "LayoutModel",
     "state": {
      "_model_module": "@jupyter-widgets/base",
      "_model_module_version": "1.2.0",
      "_model_name": "LayoutModel",
      "_view_count": null,
      "_view_module": "@jupyter-widgets/base",
      "_view_module_version": "1.2.0",
      "_view_name": "LayoutView",
      "align_content": null,
      "align_items": null,
      "align_self": null,
      "border": null,
      "bottom": null,
      "display": null,
      "flex": null,
      "flex_flow": null,
      "grid_area": null,
      "grid_auto_columns": null,
      "grid_auto_flow": null,
      "grid_auto_rows": null,
      "grid_column": null,
      "grid_gap": null,
      "grid_row": null,
      "grid_template_areas": null,
      "grid_template_columns": null,
      "grid_template_rows": null,
      "height": null,
      "justify_content": null,
      "justify_items": null,
      "left": null,
      "margin": null,
      "max_height": null,
      "max_width": null,
      "min_height": null,
      "min_width": null,
      "object_fit": null,
      "object_position": null,
      "order": null,
      "overflow": null,
      "overflow_x": null,
      "overflow_y": null,
      "padding": null,
      "right": null,
      "top": null,
      "visibility": null,
      "width": null
     }
    },
    "da43cd1692ae47338bc0d1a7eabfccf5": {
     "model_module": "@jupyter-widgets/controls",
     "model_module_version": "1.5.0",
     "model_name": "HBoxModel",
     "state": {
      "_dom_classes": [],
      "_model_module": "@jupyter-widgets/controls",
      "_model_module_version": "1.5.0",
      "_model_name": "HBoxModel",
      "_view_count": null,
      "_view_module": "@jupyter-widgets/controls",
      "_view_module_version": "1.5.0",
      "_view_name": "HBoxView",
      "box_style": "",
      "children": [
       "IPY_MODEL_35feebbcc29f483483de37291fd664ef",
       "IPY_MODEL_d5f924c7f2ce43129af43043127f7c7c",
       "IPY_MODEL_e3b356c652f34702be51938e4b6bafd2"
      ],
      "layout": "IPY_MODEL_d6113260e9f4460bbce2d93058b9f4b0"
     }
    },
    "e13c2b8c37504f35a532fd5bb5923022": {
     "model_module": "@jupyter-widgets/controls",
     "model_module_version": "1.5.0",
     "model_name": "DescriptionStyleModel",
     "state": {
      "_model_module": "@jupyter-widgets/controls",
      "_model_module_version": "1.5.0",
      "_model_name": "DescriptionStyleModel",
      "_view_count": null,
      "_view_module": "@jupyter-widgets/base",
      "_view_module_version": "1.2.0",
      "_view_name": "StyleView",
      "description_width": ""
     }
    },
    "e3b356c652f34702be51938e4b6bafd2": {
     "model_module": "@jupyter-widgets/controls",
     "model_module_version": "1.5.0",
     "model_name": "HTMLModel",
     "state": {
      "_dom_classes": [],
      "_model_module": "@jupyter-widgets/controls",
      "_model_module_version": "1.5.0",
      "_model_name": "HTMLModel",
      "_view_count": null,
      "_view_module": "@jupyter-widgets/controls",
      "_view_module_version": "1.5.0",
      "_view_name": "HTMLView",
      "description": "",
      "description_tooltip": null,
      "layout": "IPY_MODEL_244f6241b44742f182ad13b7c88c9616",
      "placeholder": "​",
      "style": "IPY_MODEL_641fa20c64fa4cbbb44b8397b0ad439d",
      "value": " 28881/28881 [00:00&lt;00:00, 121335.17it/s]"
     }
    },
    "e794a7dee6ff4162b8386bfefa4500d0": {
     "model_module": "@jupyter-widgets/controls",
     "model_module_version": "1.5.0",
     "model_name": "HTMLModel",
     "state": {
      "_dom_classes": [],
      "_model_module": "@jupyter-widgets/controls",
      "_model_module_version": "1.5.0",
      "_model_name": "HTMLModel",
      "_view_count": null,
      "_view_module": "@jupyter-widgets/controls",
      "_view_module_version": "1.5.0",
      "_view_name": "HTMLView",
      "description": "",
      "description_tooltip": null,
      "layout": "IPY_MODEL_9a5727a56e2441329855d950c2eae6a7",
      "placeholder": "​",
      "style": "IPY_MODEL_ac035f0b823e48719d6fa3a48b1a602d",
      "value": "100%"
     }
    },
    "f7623a5153354612aae75348ab85fadb": {
     "model_module": "@jupyter-widgets/base",
     "model_module_version": "1.2.0",
     "model_name": "LayoutModel",
     "state": {
      "_model_module": "@jupyter-widgets/base",
      "_model_module_version": "1.2.0",
      "_model_name": "LayoutModel",
      "_view_count": null,
      "_view_module": "@jupyter-widgets/base",
      "_view_module_version": "1.2.0",
      "_view_name": "LayoutView",
      "align_content": null,
      "align_items": null,
      "align_self": null,
      "border": null,
      "bottom": null,
      "display": null,
      "flex": null,
      "flex_flow": null,
      "grid_area": null,
      "grid_auto_columns": null,
      "grid_auto_flow": null,
      "grid_auto_rows": null,
      "grid_column": null,
      "grid_gap": null,
      "grid_row": null,
      "grid_template_areas": null,
      "grid_template_columns": null,
      "grid_template_rows": null,
      "height": null,
      "justify_content": null,
      "justify_items": null,
      "left": null,
      "margin": null,
      "max_height": null,
      "max_width": null,
      "min_height": null,
      "min_width": null,
      "object_fit": null,
      "object_position": null,
      "order": null,
      "overflow": null,
      "overflow_x": null,
      "overflow_y": null,
      "padding": null,
      "right": null,
      "top": null,
      "visibility": null,
      "width": null
     }
    },
    "f9624faae6ca4458ac53c02849ee1418": {
     "model_module": "@jupyter-widgets/base",
     "model_module_version": "1.2.0",
     "model_name": "LayoutModel",
     "state": {
      "_model_module": "@jupyter-widgets/base",
      "_model_module_version": "1.2.0",
      "_model_name": "LayoutModel",
      "_view_count": null,
      "_view_module": "@jupyter-widgets/base",
      "_view_module_version": "1.2.0",
      "_view_name": "LayoutView",
      "align_content": null,
      "align_items": null,
      "align_self": null,
      "border": null,
      "bottom": null,
      "display": null,
      "flex": null,
      "flex_flow": null,
      "grid_area": null,
      "grid_auto_columns": null,
      "grid_auto_flow": null,
      "grid_auto_rows": null,
      "grid_column": null,
      "grid_gap": null,
      "grid_row": null,
      "grid_template_areas": null,
      "grid_template_columns": null,
      "grid_template_rows": null,
      "height": null,
      "justify_content": null,
      "justify_items": null,
      "left": null,
      "margin": null,
      "max_height": null,
      "max_width": null,
      "min_height": null,
      "min_width": null,
      "object_fit": null,
      "object_position": null,
      "order": null,
      "overflow": null,
      "overflow_x": null,
      "overflow_y": null,
      "padding": null,
      "right": null,
      "top": null,
      "visibility": null,
      "width": null
     }
    },
    "f9668d9ed964448e96168bb2be585497": {
     "model_module": "@jupyter-widgets/controls",
     "model_module_version": "1.5.0",
     "model_name": "HTMLModel",
     "state": {
      "_dom_classes": [],
      "_model_module": "@jupyter-widgets/controls",
      "_model_module_version": "1.5.0",
      "_model_name": "HTMLModel",
      "_view_count": null,
      "_view_module": "@jupyter-widgets/controls",
      "_view_module_version": "1.5.0",
      "_view_name": "HTMLView",
      "description": "",
      "description_tooltip": null,
      "layout": "IPY_MODEL_822c2e1b41ca47b4ba22f329b0b39936",
      "placeholder": "​",
      "style": "IPY_MODEL_02f0d899c2e84bc8ad23c1e735956126",
      "value": " 9912422/9912422 [00:00&lt;00:00, 21651190.00it/s]"
     }
    }
   }
  }
 },
 "nbformat": 4,
 "nbformat_minor": 4
}
